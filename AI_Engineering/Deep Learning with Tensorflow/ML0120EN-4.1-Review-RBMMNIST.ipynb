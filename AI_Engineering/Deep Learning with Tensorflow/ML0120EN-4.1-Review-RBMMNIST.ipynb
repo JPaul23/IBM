{
 "cells": [
  {
   "cell_type": "markdown",
   "metadata": {},
   "source": [
    "<a href=\"https://www.skills.network/?utm_medium=Exinfluencer&utm_source=Exinfluencer&utm_content=000026UJ&utm_term=10006555&utm_id=NA-SkillsNetwork-Channel-SkillsNetworkCoursesIBMDeveloperSkillsNetworkDL0120ENSkillsNetwork20629446-2021-01-01\"><img src=\"https://cf-courses-data.s3.us.cloud-object-storage.appdomain.cloud/IBM-DL0120ENedX/labs/Template%20for%20Instructional%20Hands-on%20Labs/images/IDSNlogo.png\" width=\"400px\" align=\"center\"></a>\n",
    "\n",
    "<h1 align=\"center\"><font size=\"5\">RESTRICTED BOLTZMANN MACHINES</font></h1>\n"
   ]
  },
  {
   "cell_type": "markdown",
   "metadata": {},
   "source": [
    "<h3>Introduction</h3>\n",
    "<b>Restricted Boltzmann Machine (RBM):</b>  RBMs are shallow neural nets that learn to reconstruct data by themselves in an unsupervised fashion.  \n",
    "\n",
    "<h4>Why are RBMs important?</h4>\n",
    "An RBM are a basic form of autoencoder.  It can automatically extract <b>meaningful</b> features from a given input.\n",
    "\n",
    "<h4>How does it work?</h4>\n",
    "RBM is a 2 layer neural network. Simply, RBM takes the inputs and translates those into a set of binary values that represents them in the hidden layer. Then, these numbers can be translated back to reconstruct the inputs. Through several forward and backward passes, the RBM will be trained, and a trained RBM can reveal which features are the most important ones when detecting patterns.   \n",
    "\n",
    "<h4>What are the applications of an RBM?</h4>\n",
    "RBM is useful for <a href='http://www.cs.utoronto.ca/~hinton/absps/netflixICML.pdf?utm_medium=Exinfluencer&utm_source=Exinfluencer&utm_content=000026UJ&utm_term=10006555&utm_id=NA-SkillsNetwork-Channel-SkillsNetworkCoursesIBMDeveloperSkillsNetworkDL0120ENSkillsNetwork20629446-2021-01-01'>  Collaborative Filtering</a>, dimensionality reduction, classification, regression, feature learning, topic modeling and even <b>Deep Belief Networks</b>.\n",
    "\n",
    "<h4>Is RBM a generative or Discriminative model?</h4>\n",
    "RBM is a generative model. Let me explain it by first, see what is different between discriminative and generative models: \n",
    "\n",
    "<b>Discriminative:</b> Consider a classification problem where we want to learn to distinguish between Sedan cars (y = 1) and SUV cars (y = 0), based on some features of cars. Given a training set, an algorithm like logistic regression tries to find a straight line, or <i>decision boundary</i>, that separates the suv and sedan.\n",
    "\n",
    "<b>Generative:</b> looking at cars, we can build a model of what Sedan cars look like. Then, looking at SUVs, we can build a separate model of what SUV cars look like. Finally, to classify a new car, we can match the new car against the Sedan model, and match it against the SUV model, to see whether the new car looks more like the SUV or Sedan.\n",
    "\n",
    "Generative Models specify a probability distribution over a dataset of input vectors. We can carry out both supervised and unsupervised tasks with generative models:\n",
    "\n",
    "<ul>\n",
    "    <li>In an unsupervised task, we try to form a model for $P(x)$, where $P$ is the probability given $x$ as an input vector.</li>\n",
    "    <li>In the supervised task, we first form a model for $P(x|y)$, where $P$ is the probability of $x$ given $y$(the label for $x$). For example, if $y = 0$ indicates that a car is an SUV, and $y = 1$ indicates that a car is a sedan, then $p(x|y = 0)$ models the distribution of SUV features, and $p(x|y = 1)$ models the distribution of sedan features. If we manage to find $P(x|y)$ and $P(y)$, then we can use <b>Bayes rule</b> to estimate $P(y|x)$, because:   \n",
    "        $$p(y|x) = \\frac{p(x|y)p(y)}{p(x)}$$</li>\n",
    "</ul>\n",
    "Now the question is, can we build a generative model, and then use it to create synthetic data by directly sampling from the modeled probability distributions? Lets see. \n"
   ]
  },
  {
   "cell_type": "markdown",
   "metadata": {},
   "source": [
    "<h2>Table of Contents</h2>\n",
    "<ol>\n",
    "    <li><a href=\"#ref1\">Initialization</a></li>\n",
    "    <li><a href=\"#ref2\">RBM layers</a></li>\n",
    "    <li><a href=\"#ref3\">What RBM can do after training?</a></li>\n",
    "    <li><a href=\"#ref4\">How to train the model?</a></li>\n",
    "    <li><a href=\"#ref5\">Learned features</a></li>\n",
    "</ol>\n",
    "<p></p>\n",
    "</div>\n",
    "<br>\n",
    "\n",
    "<hr>\n"
   ]
  },
  {
   "cell_type": "markdown",
   "metadata": {},
   "source": [
    "<a id=\"ref1\"></a>\n",
    "\n",
    "<h3>Initialization</h3>\n",
    "\n",
    "First, we have to load the utility file which contains different utility functions that are not connected\n",
    "in any way to the networks presented in the tutorials, but rather help in\n",
    "processing the outputs into a more understandable way.\n"
   ]
  },
  {
   "cell_type": "code",
   "execution_count": null,
   "metadata": {},
   "outputs": [],
   "source": [
    "import urllib.request\n",
    "#with urllib.request.urlopen(\"https://cf-courses-data.s3.us.cloud-object-storage.appdomain.cloud/IBMDeveloperSkillsNetwork-DL0120EN-SkillsNetwork/labs/Week4/data/utils.py\") as url:\n",
    "    response = url.read()\n",
    "target = open('utils.py', 'w')\n",
    "target.write(response.decode('utf-8'))\n",
    "target.close()"
   ]
  },
  {
   "cell_type": "markdown",
   "metadata": {},
   "source": [
    "<h2>Installing TensorFlow </h2>\n",
    "\n",
    "We will installing TensorFlow version 2.2.0 and its required prerequistes.  Also installing pillow...\n"
   ]
  },
  {
   "cell_type": "code",
   "execution_count": null,
   "metadata": {},
   "outputs": [],
   "source": [
    "!pip install grpcio==1.24.3\n",
    "!pip install tensorflow==2.2.0\n",
    "!pip install pillow"
   ]
  },
  {
   "cell_type": "markdown",
   "metadata": {},
   "source": [
    "<b>Notice:</b> This notebook has been created with TensorFlow version 2.2, and might not work with other versions. Therefore we check:\n"
   ]
  },
  {
   "cell_type": "code",
   "execution_count": null,
   "metadata": {},
   "outputs": [],
   "source": [
    "import tensorflow as tf\n",
    "from IPython.display import Markdown, display\n",
    "\n",
    "def printmd(string):\n",
    "    display(Markdown('# <span style=\"color:red\">'+string+'</span>'))\n",
    "\n",
    "\n",
    "if not tf.__version__ == '2.2.0':\n",
    "    printmd('<<<<<!!!!! ERROR !!!! please upgrade to TensorFlow 2.2.0, or restart your Kernel (Kernel->Restart & Clear Output)>>>>>')"
   ]
  },
  {
   "cell_type": "markdown",
   "metadata": {},
   "source": [
    "Now, we load in all the packages that we use to create the net including the TensorFlow package:\n"
   ]
  },
  {
   "cell_type": "code",
   "execution_count": 2,
   "metadata": {},
   "outputs": [],
   "source": [
    "import tensorflow as tf\n",
    "import numpy as np\n",
    "\n",
    "from PIL import Image\n",
    "from utils1 import tile_raster_images\n",
    "import matplotlib.pyplot as plt\n",
    "%matplotlib inline"
   ]
  },
  {
   "cell_type": "markdown",
   "metadata": {},
   "source": [
    "<hr>\n"
   ]
  },
  {
   "cell_type": "markdown",
   "metadata": {},
   "source": [
    "<a id=\"ref2\"></a>\n",
    "\n",
    "<h3>RBM layers</h3>\n",
    "\n",
    "An RBM has two layers. The first layer of the RBM is called the <b>visible</b> (or input layer). Imagine that our toy example, has only vectors with 7 values, so the visible layer must have $V=7$ input nodes.\n",
    "The second layer is the <b>hidden</b> layer, which has $H$ neurons in our case. Each hidden node takes on values of either 0 or 1 (i.e., $h_i = 1$ or $h_i$ = 0), with a probability that is a logistic function of the inputs it receives from the other $V$ visible units, called for example, $p(h_i = 1)$. For our toy sample, we'll use 2 nodes in the hidden layer, so $H = 2$.\n",
    "\n",
    "<center><img src=\"https://ibm.box.com/shared/static/eu26opvcefgls6vnwuo29uwp0nudmokh.png\" alt=\"RBM Model\" style=\"width: 400px;\"></center>\n"
   ]
  },
  {
   "cell_type": "markdown",
   "metadata": {},
   "source": [
    "Each node in the first layer also has a <b>bias</b>. We will denote the bias as $v\\_{bias}$, and this single value is shared among the $V$ visible units.\n",
    "\n",
    "The <b>bias</b> of the second is defined similarly as $h\\_{bias}$, and this single value among the $H$ hidden units.\n"
   ]
  },
  {
   "cell_type": "code",
   "execution_count": 3,
   "metadata": {},
   "outputs": [],
   "source": [
    "v_bias = tf.Variable(tf.zeros([7]), tf.float32)\n",
    "h_bias = tf.Variable(tf.zeros([2]), tf.float32)"
   ]
  },
  {
   "cell_type": "markdown",
   "metadata": {},
   "source": [
    "We have to define weights among the input layer and hidden layer nodes. In the weight matrix, the number of rows are equal to the input nodes, and the number of columns are equal to the output nodes. We define a tensor $\\mathbf{W}$ of shape = (7,2), where the number of visible neurons = 7, and the number of hidden neurons = 2.\n"
   ]
  },
  {
   "cell_type": "code",
   "execution_count": 4,
   "metadata": {},
   "outputs": [],
   "source": [
    "W = tf.constant(np.random.normal(loc=0.0, scale=1.0, size=(7, 2)).astype(np.float32))"
   ]
  },
  {
   "cell_type": "markdown",
   "metadata": {},
   "source": [
    "<hr>\n"
   ]
  },
  {
   "cell_type": "markdown",
   "metadata": {},
   "source": [
    "<a id=\"ref3\"></a>\n",
    "\n",
    "<h3>What RBM can do after training?</h3>\n",
    "Think of RBM as a model that has been trained based on images of a dataset of many SUV and sedan cars. Also, imagine that the RBM network has only two hidden nodes, where one node encodes the weight and, and the other encodes the size.  \n",
    "In a sense, the different configurations represent different cars, where one is an SUV and the other is Sedan.  In a training process, through many forward and backward passes, the RBM adjust its weights to send a stronger signal to either the SUV node (0, 1) or the sedan node (1, 0) in the hidden layer, given the pixels of images. Now, given an SUV in hidden layer, which distribution of pixels should we expect? RBM can give you 2 things. First, it encodes your images in hidden layer. Second, it gives you the probability of observing a case, given some hidden values.\n",
    "\n",
    "<h3>The Inference Process</h3>\n",
    "\n",
    "RBM has two phases:\n",
    "\n",
    "<ul>\n",
    "    <li>Forward Pass</li>  \n",
    "    <li>Backward Pass or Reconstruction</li>\n",
    "</ul>\n",
    "\n",
    "<b>Phase 1) Forward pass:</b>\n",
    "\n",
    "Input one training sample (one image) $\\mathbf{x}$ through all visible nodes, and pass it to all hidden nodes. Processing happens in each node in the hidden layer. This computation begins by making stochastic decisions about whether to transmit that input or not (i.e. to determine the state of each hidden layer).  First, the probability vector is computed using the input feature vector $\\mathbf{x}$, the weight matrix $\\mathbf{W}$, and the bias term $h\\_{bias}$, as\n",
    "\n",
    "$p({h_j}|\\mathbf x)= \\sigma(\\sum\\_{i=1}^V W\\_{ij} x_i + h\\_{bias} )$,\n",
    "\n",
    "where $\\sigma(z) = (1+e^{-z})^{-1}$ is the logistic function.\n",
    "\n",
    "So, what does $p({h_j})$ represent? It is the <b>probability distribution</b> of the hidden units. That is, RBM uses inputs $x_i$ to make predictions about hidden node activations. For example, imagine that the hidden node activation values are \\[0.51 0.84] for the first training item. It tells you that the conditional probability for each hidden neuron for Phase 1 is:\n",
    "\n",
    "$$p(h\\_{1} = 1|\\mathbf{v}) = 0.51$$\n",
    "$$p(h\\_{2} = 1|\\mathbf{v}) = 0.84$$\n",
    "\n",
    "As a result, for each row in the training set, vector of probabilities is generated.  In TensorFlow, this is referred to as a `tensor` with a shape of (1,2).\n",
    "\n",
    "We then turn unit $j$ with probability $p(h\\_{j}|\\mathbf{v})$, and turn it off with probability $1 - p(h\\_{j}|\\mathbf{v})$ by generating a uniform random number vector $\\mathbf{\\xi}$, and comparing it to the activation probability as\n",
    "\n",
    "<center>If $\\xi_j>p(h_{j}|\\mathbf{v})$, then $h_j=1$, else $h_j=0$.</center>\n",
    "\n",
    "Therefore, the conditional probability of a configuration of $\\mathbf{h}$ given $\\mathbf{v}$ (for a training sample) is:\n",
    "\n",
    "$$p(\\mathbf{h} \\mid \\mathbf{v}) = \\prod\\_{j=1}^H p(h_j \\mid \\mathbf{v})$$\n",
    "\n",
    "where $H$ is the number of hidden units.\n"
   ]
  },
  {
   "cell_type": "markdown",
   "metadata": {},
   "source": [
    "Before we go further, let's look at a toy example for one case out of all input. Assume that we have a trained RBM, and a very simple input vector, such as \\[1.0, 0.0, 0.0, 1.0, 0.0, 0.0, 0.0].\\\n",
    "Let's see what the output of forward pass would look like:\n"
   ]
  },
  {
   "cell_type": "code",
   "execution_count": 5,
   "metadata": {},
   "outputs": [
    {
     "name": "stdout",
     "output_type": "stream",
     "text": [
      "Input:  tf.Tensor([[1. 0. 0. 1. 0. 0. 0.]], shape=(1, 7), dtype=float32)\n",
      "hb:  tf.Tensor([0.1 0.1], shape=(2,), dtype=float32)\n",
      "w:  tf.Tensor(\n",
      "[[-1.0972731   1.1438583 ]\n",
      " [-0.6666509   0.10542147]\n",
      " [ 0.8033083  -1.3529686 ]\n",
      " [-0.32671627 -0.06241504]\n",
      " [-0.0686525   0.22134675]\n",
      " [-0.2957085  -1.1768004 ]\n",
      " [ 0.16696621 -0.63443124]], shape=(7, 2), dtype=float32)\n",
      "p(h|v):  tf.Tensor([[0.21015532 0.76520723]], shape=(1, 2), dtype=float32)\n",
      "h0 states: tf.Tensor([[1. 0.]], shape=(1, 2), dtype=float32)\n"
     ]
    }
   ],
   "source": [
    "X = tf.constant([[1.0, 0.0, 0.0, 1.0, 0.0, 0.0, 0.0]], tf.float32)\n",
    "\n",
    "v_state = X\n",
    "print (\"Input: \", v_state)\n",
    "\n",
    "h_bias = tf.constant([0.1, 0.1])\n",
    "print (\"hb: \", h_bias)\n",
    "print (\"w: \", W)\n",
    "\n",
    "# Calculate the probabilities of turning the hidden units on:\n",
    "h_prob = tf.nn.sigmoid(tf.matmul(v_state, W) + h_bias)  #probabilities of the hidden units\n",
    "print (\"p(h|v): \", h_prob)\n",
    "\n",
    "# Draw samples from the distribution:\n",
    "h_state = tf.nn.relu(tf.sign(h_prob - tf.random.uniform(tf.shape(h_prob)))) #states\n",
    "print (\"h0 states:\", h_state)"
   ]
  },
  {
   "cell_type": "markdown",
   "metadata": {},
   "source": [
    "<b>Phase 2) Backward Pass (Reconstruction):</b>\n",
    "The RBM reconstructs data by making several forward and backward passes between the visible and hidden layers.\n",
    "\n",
    "So, in the second phase (i.e. reconstruction phase), the samples from the hidden layer (i.e. $\\mathbf h$) becomes the input in the backward pass. The same weight matrix and visible layer biases are used to passed to the sigmoid function. The reproduced output is a reconstruction which is an approximation of the original input.\n"
   ]
  },
  {
   "cell_type": "code",
   "execution_count": 6,
   "metadata": {},
   "outputs": [
    {
     "name": "stdout",
     "output_type": "stream",
     "text": [
      "b:  tf.Tensor([0.1 0.2 0.1 0.1 0.1 0.2 0.1], shape=(7,), dtype=float32)\n",
      "p(vi∣h):  tf.Tensor(\n",
      "[[0.2694779  0.38540924 0.7116289  0.44356245 0.5078362  0.47609115\n",
      "  0.56634796]], shape=(1, 7), dtype=float32)\n",
      "v probability states:  tf.Tensor([[1. 1. 1. 0. 1. 1. 1.]], shape=(1, 7), dtype=float32)\n"
     ]
    }
   ],
   "source": [
    "vb = tf.constant([0.1, 0.2, 0.1, 0.1, 0.1, 0.2, 0.1])\n",
    "print (\"b: \", vb)\n",
    "v_prob = tf.nn.sigmoid(tf.matmul(h_state, tf.transpose(W)) + vb)\n",
    "print (\"p(vi∣h): \", v_prob)\n",
    "v_state = tf.nn.relu(tf.sign(v_prob - tf.random.uniform(tf.shape(v_prob))))\n",
    "print (\"v probability states: \", v_state)"
   ]
  },
  {
   "cell_type": "markdown",
   "metadata": {},
   "source": [
    "RBM learns a probability distribution over the input, and then, after being trained, the RBM can generate new samples from the learned probability distribution. As you know, <b>probability distribution</b>, is a mathematical function that provides the probabilities of occurrence of different possible outcomes in an experiment.\n",
    "\n",
    "The (conditional) probability distribution over the visible units v is given by\n",
    "\n",
    "$p(\\mathbf{v} \\mid \\mathbf{h}) = \\prod\\_{i=1}^V p(v_i \\mid \\mathbf{h}),$\n",
    "\n",
    "where,\n",
    "\n",
    "$p(v_i \\mid \\mathbf{h}) = \\sigma\\left(\\sum\\_{j=1}^H W\\_{ji} h_j + v\\_{bias} \\right)$\n",
    "\n",
    "so, given current state of hidden units and weights, what is the probability of generating \\[1. 0. 0. 1. 0. 0. 0.] in reconstruction phase, based on the above <b>probability distribution</b> function?\n"
   ]
  },
  {
   "cell_type": "code",
   "execution_count": 7,
   "metadata": {},
   "outputs": [
    {
     "name": "stdout",
     "output_type": "stream",
     "text": [
      "input X: [[1. 0. 0. 1. 0. 0. 0.]]\n",
      "probablity vector: [0.2694779  0.38540924 0.7116289  0.44356245 0.5078362  0.47609115\n",
      " 0.56634796]\n",
      "probability of generating X:  0.0023687677\n"
     ]
    }
   ],
   "source": [
    "inp = X\n",
    "print(\"input X:\" , inp.numpy())\n",
    "\n",
    "print(\"probablity vector:\" , v_prob[0].numpy())\n",
    "v_probability = 1\n",
    "\n",
    "for elm, p in zip(inp[0],v_prob[0]) :\n",
    "    if elm ==1:\n",
    "        v_probability *= p\n",
    "    else:\n",
    "        v_probability *= (1-p)\n",
    "\n",
    "print(\"probability of generating X: \" , v_probability.numpy())"
   ]
  },
  {
   "cell_type": "markdown",
   "metadata": {},
   "source": [
    "How similar are vectors $\\mathbf{x}$ and $\\mathbf{v}$? Of course, the reconstructed values most likely will not look anything like the input vector, because our network has not been trained yet. Our objective is to train the model in such a way that the input vector and reconstructed vector to be same. Therefore, based on how different the input values look to the ones that we just reconstructed, the weights are adjusted.\n"
   ]
  },
  {
   "cell_type": "markdown",
   "metadata": {},
   "source": [
    "<hr>\n"
   ]
  },
  {
   "cell_type": "markdown",
   "metadata": {},
   "source": [
    "<h2>MNIST</h2>\n"
   ]
  },
  {
   "cell_type": "markdown",
   "metadata": {},
   "source": [
    "We will be using the MNIST dataset to practice the usage of RBMs. The following cell loads the MNIST dataset.\n"
   ]
  },
  {
   "cell_type": "code",
   "execution_count": 8,
   "metadata": {},
   "outputs": [],
   "source": [
    "#loading training and test data\n",
    "mnist = tf.keras.datasets.mnist\n",
    "(trX, trY), (teX, teY) = mnist.load_data()\n",
    "\n",
    "# showing an example of the Flatten class and operation\n",
    "from tensorflow.keras.layers import Flatten\n",
    "flatten = Flatten(dtype='float32')\n",
    "trX = flatten(trX/255.0)\n",
    "trY = flatten(trY/255.0)"
   ]
  },
  {
   "cell_type": "markdown",
   "metadata": {},
   "source": [
    "Lets look at the dimension of the images.\n"
   ]
  },
  {
   "cell_type": "markdown",
   "metadata": {},
   "source": [
    "MNIST images have 784 pixels, so the visible layer must have 784 input nodes.  For our case, we'll use 50 nodes in the hidden layer, so i = 50.\n"
   ]
  },
  {
   "cell_type": "code",
   "execution_count": 9,
   "metadata": {
    "jupyter": {
     "outputs_hidden": true
    }
   },
   "outputs": [],
   "source": [
    "vb = tf.Variable(tf.zeros([784]), tf.float32)\n",
    "hb = tf.Variable(tf.zeros([50]), tf.float32)"
   ]
  },
  {
   "cell_type": "markdown",
   "metadata": {},
   "source": [
    "Let $\\mathbf W$ be the Tensor of 784x50 (784 - number of visible neurons, 50 - number of hidden neurons) that represents weights between the neurons.\n"
   ]
  },
  {
   "cell_type": "code",
   "execution_count": 10,
   "metadata": {
    "jupyter": {
     "outputs_hidden": true
    }
   },
   "outputs": [],
   "source": [
    "W = tf.Variable(tf.zeros([784,50]), tf.float32)"
   ]
  },
  {
   "cell_type": "markdown",
   "metadata": {},
   "source": [
    "Lets define the visible layer:\n"
   ]
  },
  {
   "cell_type": "code",
   "execution_count": 11,
   "metadata": {},
   "outputs": [
    {
     "data": {
      "text/plain": [
       "<tf.Tensor: shape=(1, 50), dtype=float32, numpy=\n",
       "array([[0., 0., 0., 0., 0., 0., 0., 0., 0., 0., 0., 0., 0., 0., 0., 0.,\n",
       "        0., 0., 0., 0., 0., 0., 0., 0., 0., 0., 0., 0., 0., 0., 0., 0.,\n",
       "        0., 0., 0., 0., 0., 0., 0., 0., 0., 0., 0., 0., 0., 0., 0., 0.,\n",
       "        0., 0.]], dtype=float32)>"
      ]
     },
     "execution_count": 11,
     "metadata": {},
     "output_type": "execute_result"
    }
   ],
   "source": [
    "v0_state = tf.Variable(tf.zeros([784]), tf.float32)\n",
    "\n",
    "#testing to see if the matrix product works\n",
    "tf.matmul( [v0_state], W)"
   ]
  },
  {
   "cell_type": "markdown",
   "metadata": {},
   "source": [
    "Now, we can define hidden layer:\n"
   ]
  },
  {
   "cell_type": "code",
   "execution_count": 12,
   "metadata": {},
   "outputs": [
    {
     "name": "stdout",
     "output_type": "stream",
     "text": [
      "h0_state shape:  tf.Tensor([ 1 50], shape=(2,), dtype=int32)\n",
      "first 15 hidden states:  tf.Tensor([0. 1. 1. 1. 0. 0. 1. 1. 1. 0. 1. 0. 1. 0. 0.], shape=(15,), dtype=float32)\n"
     ]
    }
   ],
   "source": [
    "#computing the hidden nodes probability vector and checking shape\n",
    "h0_prob = tf.nn.sigmoid(tf.matmul([v0_state], W) + hb)  #probabilities of the hidden units\n",
    "print(\"h0_state shape: \" , tf.shape(h0_prob))\n",
    "\n",
    "#defining a function to return only the generated hidden states \n",
    "def hidden_layer(v0_state, W, hb):\n",
    "    h0_prob = tf.nn.sigmoid(tf.matmul([v0_state], W) + hb)  #probabilities of the hidden units\n",
    "    h0_state = tf.nn.relu(tf.sign(h0_prob - tf.random.uniform(tf.shape(h0_prob)))) #sample_h_given_X\n",
    "    return h0_state\n",
    "\n",
    "\n",
    "h0_state = hidden_layer(v0_state, W, hb)\n",
    "print(\"first 15 hidden states: \", h0_state[0][0:15])"
   ]
  },
  {
   "cell_type": "markdown",
   "metadata": {},
   "source": [
    "Now, we define reconstruction part:\n"
   ]
  },
  {
   "cell_type": "code",
   "execution_count": 13,
   "metadata": {},
   "outputs": [
    {
     "name": "stdout",
     "output_type": "stream",
     "text": [
      "hidden state shape:  (1, 50)\n",
      "v0 state shape:   (784,)\n",
      "v1 state shape:   (784,)\n"
     ]
    }
   ],
   "source": [
    "def reconstructed_output(h0_state, W, vb):\n",
    "    v1_prob = tf.nn.sigmoid(tf.matmul(h0_state, tf.transpose(W)) + vb) \n",
    "    v1_state = tf.nn.relu(tf.sign(v1_prob - tf.random.uniform(tf.shape(v1_prob)))) #sample_v_given_h\n",
    "    return v1_state[0]\n",
    "\n",
    "v1_state = reconstructed_output(h0_state, W, vb)\n",
    "print(\"hidden state shape: \", h0_state.shape)\n",
    "print(\"v0 state shape:  \", v0_state.shape)\n",
    "print(\"v1 state shape:  \", v1_state.shape)"
   ]
  },
  {
   "cell_type": "markdown",
   "metadata": {},
   "source": [
    "<h3>What is the objective function?</h3>\n",
    "\n",
    "<b>Goal</b>: Maximize the likelihood of our data being drawn from that distribution\n",
    "\n",
    "<b>Calculate error:</b>\\\n",
    "In each epoch, we compute the \"error\" as a sum of the squared difference between step 1 and step n,\n",
    "e.g the error shows the difference between the data and its reconstruction.\n",
    "\n",
    "<b>Note:</b> tf.reduce_mean computes the mean of elements across dimensions of a tensor.\n"
   ]
  },
  {
   "cell_type": "code",
   "execution_count": 14,
   "metadata": {},
   "outputs": [
    {
     "name": "stdout",
     "output_type": "stream",
     "text": [
      "error 0.4655612\n"
     ]
    }
   ],
   "source": [
    "def error(v0_state, v1_state):\n",
    "    return tf.reduce_mean(tf.square(v0_state - v1_state))\n",
    "\n",
    "err = tf.reduce_mean(tf.square(v0_state - v1_state))\n",
    "print(\"error\" , err.numpy())"
   ]
  },
  {
   "cell_type": "markdown",
   "metadata": {},
   "source": [
    "<a id=\"ref4\"></a>\n",
    "\n",
    "<h3>Training the Model</h3>\n",
    "<b>Warning...</b> The following part is math-heavy, but you can skip it if you just want to run the cells in the next section.\n",
    "\n",
    "As mentioned, we want to give a high probability to the input data we train on. So, in order to train an RBM, we have to maximize the product of probabilities assigned to all rows $\\mathbf{v}$ (images) in the training set $\\mathbf{V}$ (a matrix, where each row of it is treated as a visible vector $\\mathbf{v}$)\n",
    "\n",
    "$$\\arg\\max_W\\prod\\_{\\mathbf{v}\\in\\mathbf{V}\\_T}p(\\mathbf{v}),$$\n",
    "\n",
    "which is equivalent to maximizing the expectation of the log probability, given as\n",
    "\n",
    "$$\\arg\\max_W\\left\\[ \\mathbb{E} \\left(\\prod\\_{\\mathbf v\\in \\mathbf V}\\text{log} \\left(p(\\mathbf v)\\right) \\right) \\right].$$\n",
    "\n",
    "So, we have to update the weights $W\\_{ij}$  to increase $p(\\mathbf{v})$ for all $\\mathbf{v}$ in our training data during training. So we have to calculate the derivative:\n",
    "\n",
    "$$\\frac{\\partial \\log p(\\mathbf v)}{\\partial W\\_{ij}}$$\n",
    "\n",
    "This cannot be easily done by typical <b>gradient descent (SGD)</b>, so we can use another approach, which has 2 steps:\n",
    "\n",
    "<ol>\n",
    "    <li>Gibbs Sampling</li>\n",
    "    <li>Contrastive Divergence</li>\n",
    "</ol>    \n",
    "\n",
    "<h3>Gibbs Sampling</h3>   \n",
    "\n",
    "<h4>Gibbs Sampling Step 1</h4> \n",
    "Given an input vector $\\mathbf{v}$, we are using $p(\\mathbf{h}|\\mathbf{v})$ to predict the hidden values $\\mathbf{h}$. \n",
    "  $$p({h_j}|\\mathbf v)= \\sigma\\left(\\sum_{i=1}^V W_{ij} v_i + h_{bias} \\right)$$\n",
    "The samples are generated from this distribution by generating the uniform random variate vector $\\mathbf{\\xi} \\sim U[0,1]$ of length $H$ and comparing to the computed probabilities as\n",
    "\n",
    "<center>If $\\xi_j>p(h_{j}|\\mathbf{v})$, then $h_j=1$, else $h_j=0$.</center>\n",
    "\n",
    "<h4>Gibbs Sampling Step 2</h4> \n",
    "Then, knowing the hidden values, we use $p(\\mathbf v| \\mathbf h)$ for reconstructing of new input values v. \n",
    "\n",
    "$$p({v_i}|\\mathbf h)= \\sigma\\left(\\sum\\_{j=1}^H W^{T}*{ij} h_j + v*{bias} \\right)$$\n",
    "\n",
    "The samples are generated from this distribution by generating a uniform random variate vector $\\mathbf{\\xi} \\sim U\\[0,1]$ of length $V$ and comparing to the computed probabilities as\n",
    "\n",
    "<center>If $\\xi_i>p(v_{i}|\\mathbf{h})$, then $v_i=1$, else $v_i=0$.</center>\n",
    "\n",
    "Let vectors $\\mathbf v_k$ and $\\mathbf h_k$ be for the $k$th iteration.  In general, the $kth$ state is generrated as:\n",
    "\n",
    "<b>Iteration</b> $k$:\n",
    "\n",
    "$$\\mathbf v\\_{k-1} \\Rightarrow p(\\mathbf h\\_{k-1}|\\mathbf v\\_{k-1})\\Rightarrow \\mathbf h\\_{k-1}\\Rightarrow p(\\mathbf v\\_{k}|\\mathbf h\\_{k-1})\\Rightarrow \\mathbf v_k$$\n",
    "\n",
    "<h3>Contrastive Divergence (CD-k)</h3>\n",
    "The update of the weight matrix is done during the Contrastive Divergence step. \n",
    "\n",
    "Vectors v0 and vk are used to calculate the activation probabilities for hidden values h0 and hk. The difference between the outer products of those probabilities with input vectors v0 and vk results in the update matrix:\n",
    "\n",
    "$\\Delta \\mathbf W_k =\\mathbf v_k \\otimes \\mathbf h_k - \\mathbf v\\_{k-1} \\otimes \\mathbf h\\_{k-1}$\n",
    "\n",
    "Contrastive Divergence is actually matrix of values that is computed and used to adjust values of the $\\mathbf W$ matrix. Changing $\\mathbf W$ incrementally leads to training of the  $\\mathbf W$ values. Then, on each step (epoch), $\\mathbf W$ is updated using the following:\n",
    "\n",
    "$\\mathbf W_k = \\mathbf W\\_{k-1} + \\alpha \\* \\Delta \\mathbf W_k$\n",
    "\n",
    "Reconstruction steps:\n",
    "\n",
    "<ul>\n",
    "    <li> Get one data point from data set, like <i>x</i>, and pass it through the following steps:</li>\n",
    "\n",
    "<b>Iteration</b> $k=1$:\n",
    "\n",
    "Sampling (starting with input image)\n",
    "$$\\mathbf x = \\mathbf v\\_0 \\Rightarrow p(\\mathbf h\\_0|\\mathbf v\\_0)\\Rightarrow \\mathbf h\\_0 \\Rightarrow p(\\mathbf v\\_1|\\mathbf h\\_0)\\Rightarrow \\mathbf v\\_1$$\\\n",
    "followed by the CD-k step\n",
    "$$\\Delta \\mathbf W\\_1 =\\mathbf v\\_1 \\otimes \\mathbf h\\_1 - \\mathbf v\\_{0} \\otimes \\mathbf h\\_{0}$$\\\n",
    "$$\\mathbf W\\_1 = \\mathbf W\\_{0} + \\alpha \\* \\Delta \\mathbf W\\_1$$\n",
    "\n",
    "<li> $\\mathbf v_1$ is the reconstruction of $\\mathbf x$ sent to the next iteration).</li>\n",
    "\n",
    "<b>Iteration</b> $k=2$:\n",
    "\n",
    "Sampling (starting with $\\mathbf v\\_1$)\n",
    "\n",
    "$$\\mathbf v\\_1 \\Rightarrow p(\\mathbf h\\_1|\\mathbf v\\_1)\\Rightarrow \\mathbf h\\_1\\Rightarrow p(\\mathbf v\\_2|\\mathbf h\\_1)\\Rightarrow \\mathbf v\\_2$$\n",
    "\n",
    "followed by the CD-k step\n",
    "$$\\Delta \\mathbf W\\_2 =\\mathbf v\\_2 \\otimes \\mathbf h\\_2 - \\mathbf v\\_{1} \\otimes \\mathbf h\\_{1}$$\\\n",
    "$$\\mathbf W\\_2 = \\mathbf W\\_{1} + \\alpha \\* \\Delta \\mathbf W\\_2$$\n",
    "\n",
    "<li> $\\mathbf v_2$ is the reconstruction of $\\mathbf v_1$ sent to the next iteration).</li>    \n",
    "\n",
    "<b>Iteration</b> $k=K$:\n",
    "\n",
    "Sampling (starting with $\\mathbf v\\_{K-1}$)\n",
    "\n",
    "$$\\mathbf v\\_{K-1} \\Rightarrow p(\\mathbf h\\_{K-1}|\\mathbf v\\_{K-1})\\Rightarrow \\mathbf h\\_{K-1}\\Rightarrow p(\\mathbf v_K|\\mathbf h\\_{K-1})\\Rightarrow \\mathbf v_K$$\n",
    "\n",
    "followed by the CD-k step\n",
    "$$\\Delta \\mathbf W_K =\\mathbf v_K \\otimes \\mathbf h_K - \\mathbf v\\_{K-1} \\otimes \\mathbf h\\_{K-1}$$\\\n",
    "$$\\mathbf W_K = \\mathbf W\\_{K-1} + \\alpha \\* \\Delta \\mathbf W_K$$\n",
    "\n",
    "<b>What is $\\alpha$?</b>\\\n",
    "Here, alpha is some small step size, and is also known as the \"learning rate\".\n"
   ]
  },
  {
   "cell_type": "markdown",
   "metadata": {},
   "source": [
    "$K$ is adjustable, and good performance can be achieved with $K=1$, so that we just take one set of sampling steps per image.\n"
   ]
  },
  {
   "cell_type": "code",
   "execution_count": 15,
   "metadata": {},
   "outputs": [],
   "source": [
    "h1_prob = tf.nn.sigmoid(tf.matmul([v1_state], W) + hb)\n",
    "h1_state = tf.nn.relu(tf.sign(h1_prob - tf.random.uniform(tf.shape(h1_prob)))) #sample_h_given_X"
   ]
  },
  {
   "cell_type": "markdown",
   "metadata": {},
   "source": [
    "Lets look at the error of the first run:\n"
   ]
  },
  {
   "cell_type": "code",
   "execution_count": 16,
   "metadata": {},
   "outputs": [
    {
     "name": "stdout",
     "output_type": "stream",
     "text": [
      "error:  tf.Tensor(0.4655612, shape=(), dtype=float32)\n"
     ]
    }
   ],
   "source": [
    "print(\"error: \", error(v0_state, v1_state))"
   ]
  },
  {
   "cell_type": "code",
   "execution_count": 17,
   "metadata": {
    "scrolled": false
   },
   "outputs": [
    {
     "name": "stdout",
     "output_type": "stream",
     "text": [
      "Epoch: 0 batch #: 1  of 300 sample #: 199 reconstruction error: 0.182991\n",
      "Epoch: 0 batch #: 2  of 300 sample #: 199 reconstruction error: 0.212122\n",
      "Epoch: 0 batch #: 3  of 300 sample #: 199 reconstruction error: 0.107844\n",
      "Epoch: 0 batch #: 4  of 300 sample #: 199 reconstruction error: 0.110170\n",
      "Epoch: 0 batch #: 5  of 300 sample #: 199 reconstruction error: 0.102549\n",
      "Epoch: 0 batch #: 6  of 300 sample #: 199 reconstruction error: 0.206877\n",
      "Epoch: 0 batch #: 7  of 300 sample #: 199 reconstruction error: 0.104470\n",
      "Epoch: 0 batch #: 8  of 300 sample #: 199 reconstruction error: 0.102192\n",
      "Epoch: 0 batch #: 9  of 300 sample #: 199 reconstruction error: 0.085997\n",
      "Epoch: 0 batch #: 10  of 300 sample #: 199 reconstruction error: 0.183204\n",
      "Epoch: 0 batch #: 11  of 300 sample #: 199 reconstruction error: 0.088335\n",
      "Epoch: 0 batch #: 12  of 300 sample #: 199 reconstruction error: 0.121585\n",
      "Epoch: 0 batch #: 13  of 300 sample #: 199 reconstruction error: 0.044030\n",
      "Epoch: 0 batch #: 14  of 300 sample #: 199 reconstruction error: 0.113307\n",
      "Epoch: 0 batch #: 15  of 300 sample #: 199 reconstruction error: 0.113271\n",
      "Epoch: 0 batch #: 16  of 300 sample #: 199 reconstruction error: 0.100445\n",
      "Epoch: 0 batch #: 17  of 300 sample #: 199 reconstruction error: 0.061657\n",
      "Epoch: 0 batch #: 18  of 300 sample #: 199 reconstruction error: 0.125102\n",
      "Epoch: 0 batch #: 19  of 300 sample #: 199 reconstruction error: 0.146523\n",
      "Epoch: 0 batch #: 20  of 300 sample #: 199 reconstruction error: 0.107939\n",
      "Epoch: 0 batch #: 21  of 300 sample #: 199 reconstruction error: 0.087843\n",
      "Epoch: 0 batch #: 22  of 300 sample #: 199 reconstruction error: 0.078989\n",
      "Epoch: 0 batch #: 23  of 300 sample #: 199 reconstruction error: 0.095154\n",
      "Epoch: 0 batch #: 24  of 300 sample #: 199 reconstruction error: 0.105631\n",
      "Epoch: 0 batch #: 25  of 300 sample #: 199 reconstruction error: 0.090541\n",
      "Epoch: 0 batch #: 26  of 300 sample #: 199 reconstruction error: 0.098877\n",
      "Epoch: 0 batch #: 27  of 300 sample #: 199 reconstruction error: 0.103771\n",
      "Epoch: 0 batch #: 28  of 300 sample #: 199 reconstruction error: 0.084836\n",
      "Epoch: 0 batch #: 29  of 300 sample #: 199 reconstruction error: 0.099905\n",
      "Epoch: 0 batch #: 30  of 300 sample #: 199 reconstruction error: 0.087378\n",
      "Epoch: 0 batch #: 31  of 300 sample #: 199 reconstruction error: 0.107775\n",
      "Epoch: 0 batch #: 32  of 300 sample #: 199 reconstruction error: 0.115122\n",
      "Epoch: 0 batch #: 33  of 300 sample #: 199 reconstruction error: 0.070237\n",
      "Epoch: 0 batch #: 34  of 300 sample #: 199 reconstruction error: 0.073089\n",
      "Epoch: 0 batch #: 35  of 300 sample #: 199 reconstruction error: 0.075706\n",
      "Epoch: 0 batch #: 36  of 300 sample #: 199 reconstruction error: 0.075775\n",
      "Epoch: 0 batch #: 37  of 300 sample #: 199 reconstruction error: 0.051244\n",
      "Epoch: 0 batch #: 38  of 300 sample #: 199 reconstruction error: 0.077391\n",
      "Epoch: 0 batch #: 39  of 300 sample #: 199 reconstruction error: 0.081498\n",
      "Epoch: 0 batch #: 40  of 300 sample #: 199 reconstruction error: 0.119182\n",
      "Epoch: 0 batch #: 41  of 300 sample #: 199 reconstruction error: 0.077458\n",
      "Epoch: 0 batch #: 42  of 300 sample #: 199 reconstruction error: 0.062203\n",
      "Epoch: 0 batch #: 43  of 300 sample #: 199 reconstruction error: 0.120392\n",
      "Epoch: 0 batch #: 44  of 300 sample #: 199 reconstruction error: 0.056914\n",
      "Epoch: 0 batch #: 45  of 300 sample #: 199 reconstruction error: 0.069150\n",
      "Epoch: 0 batch #: 46  of 300 sample #: 199 reconstruction error: 0.038309\n",
      "Epoch: 0 batch #: 47  of 300 sample #: 199 reconstruction error: 0.040870\n",
      "Epoch: 0 batch #: 48  of 300 sample #: 199 reconstruction error: 0.037535\n",
      "Epoch: 0 batch #: 49  of 300 sample #: 199 reconstruction error: 0.122272\n",
      "Epoch: 0 batch #: 50  of 300 sample #: 199 reconstruction error: 0.046371\n",
      "Epoch: 0 batch #: 51  of 300 sample #: 199 reconstruction error: 0.061125\n",
      "Epoch: 0 batch #: 52  of 300 sample #: 199 reconstruction error: 0.038101\n",
      "Epoch: 0 batch #: 53  of 300 sample #: 199 reconstruction error: 0.099054\n",
      "Epoch: 0 batch #: 54  of 300 sample #: 199 reconstruction error: 0.058222\n",
      "Epoch: 0 batch #: 55  of 300 sample #: 199 reconstruction error: 0.103652\n",
      "Epoch: 0 batch #: 56  of 300 sample #: 199 reconstruction error: 0.060867\n",
      "Epoch: 0 batch #: 57  of 300 sample #: 199 reconstruction error: 0.048865\n",
      "Epoch: 0 batch #: 58  of 300 sample #: 199 reconstruction error: 0.072006\n",
      "Epoch: 0 batch #: 59  of 300 sample #: 199 reconstruction error: 0.058322\n",
      "Epoch: 0 batch #: 60  of 300 sample #: 199 reconstruction error: 0.085086\n",
      "Epoch: 0 batch #: 61  of 300 sample #: 199 reconstruction error: 0.082097\n",
      "Epoch: 0 batch #: 62  of 300 sample #: 199 reconstruction error: 0.079448\n",
      "Epoch: 0 batch #: 63  of 300 sample #: 199 reconstruction error: 0.061644\n",
      "Epoch: 0 batch #: 64  of 300 sample #: 199 reconstruction error: 0.082571\n",
      "Epoch: 0 batch #: 65  of 300 sample #: 199 reconstruction error: 0.080423\n",
      "Epoch: 0 batch #: 66  of 300 sample #: 199 reconstruction error: 0.064222\n",
      "Epoch: 0 batch #: 67  of 300 sample #: 199 reconstruction error: 0.065541\n",
      "Epoch: 0 batch #: 68  of 300 sample #: 199 reconstruction error: 0.058556\n",
      "Epoch: 0 batch #: 69  of 300 sample #: 199 reconstruction error: 0.093576\n",
      "Epoch: 0 batch #: 70  of 300 sample #: 199 reconstruction error: 0.095988\n",
      "Epoch: 0 batch #: 71  of 300 sample #: 199 reconstruction error: 0.089440\n",
      "Epoch: 0 batch #: 72  of 300 sample #: 199 reconstruction error: 0.068038\n",
      "Epoch: 0 batch #: 73  of 300 sample #: 199 reconstruction error: 0.091641\n",
      "Epoch: 0 batch #: 74  of 300 sample #: 199 reconstruction error: 0.103803\n",
      "Epoch: 0 batch #: 75  of 300 sample #: 199 reconstruction error: 0.053975\n",
      "Epoch: 0 batch #: 76  of 300 sample #: 199 reconstruction error: 0.092787\n",
      "Epoch: 0 batch #: 77  of 300 sample #: 199 reconstruction error: 0.098678\n",
      "Epoch: 0 batch #: 78  of 300 sample #: 199 reconstruction error: 0.084251\n",
      "Epoch: 0 batch #: 79  of 300 sample #: 199 reconstruction error: 0.113679\n",
      "Epoch: 0 batch #: 80  of 300 sample #: 199 reconstruction error: 0.035072\n",
      "Epoch: 0 batch #: 81  of 300 sample #: 199 reconstruction error: 0.050749\n",
      "Epoch: 0 batch #: 82  of 300 sample #: 199 reconstruction error: 0.052700\n",
      "Epoch: 0 batch #: 83  of 300 sample #: 199 reconstruction error: 0.090140\n",
      "Epoch: 0 batch #: 84  of 300 sample #: 199 reconstruction error: 0.082735\n",
      "Epoch: 0 batch #: 85  of 300 sample #: 199 reconstruction error: 0.029847\n",
      "Epoch: 0 batch #: 86  of 300 sample #: 199 reconstruction error: 0.081787\n",
      "Epoch: 0 batch #: 87  of 300 sample #: 199 reconstruction error: 0.089646\n",
      "Epoch: 0 batch #: 88  of 300 sample #: 199 reconstruction error: 0.033029\n",
      "Epoch: 0 batch #: 89  of 300 sample #: 199 reconstruction error: 0.072574\n",
      "Epoch: 0 batch #: 90  of 300 sample #: 199 reconstruction error: 0.068407\n",
      "Epoch: 0 batch #: 91  of 300 sample #: 199 reconstruction error: 0.062522\n",
      "Epoch: 0 batch #: 92  of 300 sample #: 199 reconstruction error: 0.063027\n",
      "Epoch: 0 batch #: 93  of 300 sample #: 199 reconstruction error: 0.104018\n",
      "Epoch: 0 batch #: 94  of 300 sample #: 199 reconstruction error: 0.109588\n",
      "Epoch: 0 batch #: 95  of 300 sample #: 199 reconstruction error: 0.071363\n",
      "Epoch: 0 batch #: 96  of 300 sample #: 199 reconstruction error: 0.065620\n",
      "Epoch: 0 batch #: 97  of 300 sample #: 199 reconstruction error: 0.100473\n",
      "Epoch: 0 batch #: 98  of 300 sample #: 199 reconstruction error: 0.072848\n",
      "Epoch: 0 batch #: 99  of 300 sample #: 199 reconstruction error: 0.060682\n",
      "Epoch: 0 batch #: 100  of 300 sample #: 199 reconstruction error: 0.098219\n",
      "Epoch: 0 batch #: 101  of 300 sample #: 199 reconstruction error: 0.073822\n",
      "Epoch: 0 batch #: 102  of 300 sample #: 199 reconstruction error: 0.087024\n",
      "Epoch: 0 batch #: 103  of 300 sample #: 199 reconstruction error: 0.071762\n",
      "Epoch: 0 batch #: 104  of 300 sample #: 199 reconstruction error: 0.066451\n",
      "Epoch: 0 batch #: 105  of 300 sample #: 199 reconstruction error: 0.045255\n",
      "Epoch: 0 batch #: 106  of 300 sample #: 199 reconstruction error: 0.111359\n",
      "Epoch: 0 batch #: 107  of 300 sample #: 199 reconstruction error: 0.132350\n",
      "Epoch: 0 batch #: 108  of 300 sample #: 199 reconstruction error: 0.062949\n",
      "Epoch: 0 batch #: 109  of 300 sample #: 199 reconstruction error: 0.112351\n",
      "Epoch: 0 batch #: 110  of 300 sample #: 199 reconstruction error: 0.064029\n",
      "Epoch: 0 batch #: 111  of 300 sample #: 199 reconstruction error: 0.095580\n"
     ]
    },
    {
     "name": "stdout",
     "output_type": "stream",
     "text": [
      "Epoch: 0 batch #: 112  of 300 sample #: 199 reconstruction error: 0.037589\n",
      "Epoch: 0 batch #: 113  of 300 sample #: 199 reconstruction error: 0.076145\n",
      "Epoch: 0 batch #: 114  of 300 sample #: 199 reconstruction error: 0.072658\n",
      "Epoch: 0 batch #: 115  of 300 sample #: 199 reconstruction error: 0.063467\n",
      "Epoch: 0 batch #: 116  of 300 sample #: 199 reconstruction error: 0.050180\n",
      "Epoch: 0 batch #: 117  of 300 sample #: 199 reconstruction error: 0.040832\n",
      "Epoch: 0 batch #: 118  of 300 sample #: 199 reconstruction error: 0.070334\n",
      "Epoch: 0 batch #: 119  of 300 sample #: 199 reconstruction error: 0.129260\n",
      "Epoch: 0 batch #: 120  of 300 sample #: 199 reconstruction error: 0.086580\n",
      "Epoch: 0 batch #: 121  of 300 sample #: 199 reconstruction error: 0.048935\n",
      "Epoch: 0 batch #: 122  of 300 sample #: 199 reconstruction error: 0.085016\n",
      "Epoch: 0 batch #: 123  of 300 sample #: 199 reconstruction error: 0.073357\n",
      "Epoch: 0 batch #: 124  of 300 sample #: 199 reconstruction error: 0.074209\n",
      "Epoch: 0 batch #: 125  of 300 sample #: 199 reconstruction error: 0.038394\n",
      "Epoch: 0 batch #: 126  of 300 sample #: 199 reconstruction error: 0.104825\n",
      "Epoch: 0 batch #: 127  of 300 sample #: 199 reconstruction error: 0.087089\n",
      "Epoch: 0 batch #: 128  of 300 sample #: 199 reconstruction error: 0.061279\n",
      "Epoch: 0 batch #: 129  of 300 sample #: 199 reconstruction error: 0.053856\n",
      "Epoch: 0 batch #: 130  of 300 sample #: 199 reconstruction error: 0.082902\n",
      "Epoch: 0 batch #: 131  of 300 sample #: 199 reconstruction error: 0.056469\n",
      "Epoch: 0 batch #: 132  of 300 sample #: 199 reconstruction error: 0.042159\n",
      "Epoch: 0 batch #: 133  of 300 sample #: 199 reconstruction error: 0.053414\n",
      "Epoch: 0 batch #: 134  of 300 sample #: 199 reconstruction error: 0.093636\n",
      "Epoch: 0 batch #: 135  of 300 sample #: 199 reconstruction error: 0.089651\n",
      "Epoch: 0 batch #: 136  of 300 sample #: 199 reconstruction error: 0.096477\n",
      "Epoch: 0 batch #: 137  of 300 sample #: 199 reconstruction error: 0.070306\n",
      "Epoch: 0 batch #: 138  of 300 sample #: 199 reconstruction error: 0.061618\n",
      "Epoch: 0 batch #: 139  of 300 sample #: 199 reconstruction error: 0.098355\n",
      "Epoch: 0 batch #: 140  of 300 sample #: 199 reconstruction error: 0.082699\n",
      "Epoch: 0 batch #: 141  of 300 sample #: 199 reconstruction error: 0.091809\n",
      "Epoch: 0 batch #: 142  of 300 sample #: 199 reconstruction error: 0.057069\n",
      "Epoch: 0 batch #: 143  of 300 sample #: 199 reconstruction error: 0.053670\n",
      "Epoch: 0 batch #: 144  of 300 sample #: 199 reconstruction error: 0.059099\n",
      "Epoch: 0 batch #: 145  of 300 sample #: 199 reconstruction error: 0.112594\n",
      "Epoch: 0 batch #: 146  of 300 sample #: 199 reconstruction error: 0.114579\n",
      "Epoch: 0 batch #: 147  of 300 sample #: 199 reconstruction error: 0.061667\n",
      "Epoch: 0 batch #: 148  of 300 sample #: 199 reconstruction error: 0.083002\n",
      "Epoch: 0 batch #: 149  of 300 sample #: 199 reconstruction error: 0.053181\n",
      "Epoch: 0 batch #: 150  of 300 sample #: 199 reconstruction error: 0.046696\n",
      "Epoch: 0 batch #: 151  of 300 sample #: 199 reconstruction error: 0.107727\n",
      "Epoch: 0 batch #: 152  of 300 sample #: 199 reconstruction error: 0.076386\n",
      "Epoch: 0 batch #: 153  of 300 sample #: 199 reconstruction error: 0.056716\n",
      "Epoch: 0 batch #: 154  of 300 sample #: 199 reconstruction error: 0.080740\n",
      "Epoch: 0 batch #: 155  of 300 sample #: 199 reconstruction error: 0.057026\n",
      "Epoch: 0 batch #: 156  of 300 sample #: 199 reconstruction error: 0.080604\n",
      "Epoch: 0 batch #: 157  of 300 sample #: 199 reconstruction error: 0.089542\n",
      "Epoch: 0 batch #: 158  of 300 sample #: 199 reconstruction error: 0.067749\n",
      "Epoch: 0 batch #: 159  of 300 sample #: 199 reconstruction error: 0.055060\n",
      "Epoch: 0 batch #: 160  of 300 sample #: 199 reconstruction error: 0.063120\n",
      "Epoch: 0 batch #: 161  of 300 sample #: 199 reconstruction error: 0.086106\n",
      "Epoch: 0 batch #: 162  of 300 sample #: 199 reconstruction error: 0.105995\n",
      "Epoch: 0 batch #: 163  of 300 sample #: 199 reconstruction error: 0.044054\n",
      "Epoch: 0 batch #: 164  of 300 sample #: 199 reconstruction error: 0.065630\n",
      "Epoch: 0 batch #: 165  of 300 sample #: 199 reconstruction error: 0.084596\n",
      "Epoch: 0 batch #: 166  of 300 sample #: 199 reconstruction error: 0.068669\n",
      "Epoch: 0 batch #: 167  of 300 sample #: 199 reconstruction error: 0.105252\n",
      "Epoch: 0 batch #: 168  of 300 sample #: 199 reconstruction error: 0.066838\n",
      "Epoch: 0 batch #: 169  of 300 sample #: 199 reconstruction error: 0.043203\n",
      "Epoch: 0 batch #: 170  of 300 sample #: 199 reconstruction error: 0.066382\n",
      "Epoch: 0 batch #: 171  of 300 sample #: 199 reconstruction error: 0.040450\n",
      "Epoch: 0 batch #: 172  of 300 sample #: 199 reconstruction error: 0.045245\n",
      "Epoch: 0 batch #: 173  of 300 sample #: 199 reconstruction error: 0.080807\n",
      "Epoch: 0 batch #: 174  of 300 sample #: 199 reconstruction error: 0.100110\n",
      "Epoch: 0 batch #: 175  of 300 sample #: 199 reconstruction error: 0.062754\n",
      "Epoch: 0 batch #: 176  of 300 sample #: 199 reconstruction error: 0.044641\n",
      "Epoch: 0 batch #: 177  of 300 sample #: 199 reconstruction error: 0.039343\n",
      "Epoch: 0 batch #: 178  of 300 sample #: 199 reconstruction error: 0.086087\n",
      "Epoch: 0 batch #: 179  of 300 sample #: 199 reconstruction error: 0.073173\n",
      "Epoch: 0 batch #: 180  of 300 sample #: 199 reconstruction error: 0.072207\n",
      "Epoch: 0 batch #: 181  of 300 sample #: 199 reconstruction error: 0.102760\n",
      "Epoch: 0 batch #: 182  of 300 sample #: 199 reconstruction error: 0.076481\n",
      "Epoch: 0 batch #: 183  of 300 sample #: 199 reconstruction error: 0.119428\n",
      "Epoch: 0 batch #: 184  of 300 sample #: 199 reconstruction error: 0.061687\n",
      "Epoch: 0 batch #: 185  of 300 sample #: 199 reconstruction error: 0.062989\n",
      "Epoch: 0 batch #: 186  of 300 sample #: 199 reconstruction error: 0.105770\n",
      "Epoch: 0 batch #: 187  of 300 sample #: 199 reconstruction error: 0.049355\n",
      "Epoch: 0 batch #: 188  of 300 sample #: 199 reconstruction error: 0.121364\n",
      "Epoch: 0 batch #: 189  of 300 sample #: 199 reconstruction error: 0.081338\n",
      "Epoch: 0 batch #: 190  of 300 sample #: 199 reconstruction error: 0.055565\n",
      "Epoch: 0 batch #: 191  of 300 sample #: 199 reconstruction error: 0.104618\n",
      "Epoch: 0 batch #: 192  of 300 sample #: 199 reconstruction error: 0.118463\n",
      "Epoch: 0 batch #: 193  of 300 sample #: 199 reconstruction error: 0.099472\n",
      "Epoch: 0 batch #: 194  of 300 sample #: 199 reconstruction error: 0.083040\n",
      "Epoch: 0 batch #: 195  of 300 sample #: 199 reconstruction error: 0.051355\n",
      "Epoch: 0 batch #: 196  of 300 sample #: 199 reconstruction error: 0.045712\n",
      "Epoch: 0 batch #: 197  of 300 sample #: 199 reconstruction error: 0.054810\n",
      "Epoch: 0 batch #: 198  of 300 sample #: 199 reconstruction error: 0.101464\n",
      "Epoch: 0 batch #: 199  of 300 sample #: 199 reconstruction error: 0.074612\n",
      "Epoch: 0 batch #: 200  of 300 sample #: 199 reconstruction error: 0.104572\n",
      "Epoch: 0 batch #: 201  of 300 sample #: 199 reconstruction error: 0.094484\n",
      "Epoch: 0 batch #: 202  of 300 sample #: 199 reconstruction error: 0.029564\n",
      "Epoch: 0 batch #: 203  of 300 sample #: 199 reconstruction error: 0.081643\n",
      "Epoch: 0 batch #: 204  of 300 sample #: 199 reconstruction error: 0.048503\n",
      "Epoch: 0 batch #: 205  of 300 sample #: 199 reconstruction error: 0.025657\n",
      "Epoch: 0 batch #: 206  of 300 sample #: 199 reconstruction error: 0.061787\n",
      "Epoch: 0 batch #: 207  of 300 sample #: 199 reconstruction error: 0.082753\n",
      "Epoch: 0 batch #: 208  of 300 sample #: 199 reconstruction error: 0.044066\n",
      "Epoch: 0 batch #: 209  of 300 sample #: 199 reconstruction error: 0.036023\n",
      "Epoch: 0 batch #: 210  of 300 sample #: 199 reconstruction error: 0.104684\n",
      "Epoch: 0 batch #: 211  of 300 sample #: 199 reconstruction error: 0.079624\n",
      "Epoch: 0 batch #: 212  of 300 sample #: 199 reconstruction error: 0.086348\n",
      "Epoch: 0 batch #: 213  of 300 sample #: 199 reconstruction error: 0.097026\n",
      "Epoch: 0 batch #: 214  of 300 sample #: 199 reconstruction error: 0.098632\n",
      "Epoch: 0 batch #: 215  of 300 sample #: 199 reconstruction error: 0.028877\n",
      "Epoch: 0 batch #: 216  of 300 sample #: 199 reconstruction error: 0.121480\n",
      "Epoch: 0 batch #: 217  of 300 sample #: 199 reconstruction error: 0.081496\n",
      "Epoch: 0 batch #: 218  of 300 sample #: 199 reconstruction error: 0.064980\n",
      "Epoch: 0 batch #: 219  of 300 sample #: 199 reconstruction error: 0.075413\n",
      "Epoch: 0 batch #: 220  of 300 sample #: 199 reconstruction error: 0.060736\n",
      "Epoch: 0 batch #: 221  of 300 sample #: 199 reconstruction error: 0.093035\n"
     ]
    },
    {
     "name": "stdout",
     "output_type": "stream",
     "text": [
      "Epoch: 0 batch #: 222  of 300 sample #: 199 reconstruction error: 0.091508\n",
      "Epoch: 0 batch #: 223  of 300 sample #: 199 reconstruction error: 0.076209\n",
      "Epoch: 0 batch #: 224  of 300 sample #: 199 reconstruction error: 0.060530\n",
      "Epoch: 0 batch #: 225  of 300 sample #: 199 reconstruction error: 0.068047\n",
      "Epoch: 0 batch #: 226  of 300 sample #: 199 reconstruction error: 0.128648\n",
      "Epoch: 0 batch #: 227  of 300 sample #: 199 reconstruction error: 0.086465\n",
      "Epoch: 0 batch #: 228  of 300 sample #: 199 reconstruction error: 0.072468\n",
      "Epoch: 0 batch #: 229  of 300 sample #: 199 reconstruction error: 0.067281\n",
      "Epoch: 0 batch #: 230  of 300 sample #: 199 reconstruction error: 0.038225\n",
      "Epoch: 0 batch #: 231  of 300 sample #: 199 reconstruction error: 0.020472\n",
      "Epoch: 0 batch #: 232  of 300 sample #: 199 reconstruction error: 0.077572\n",
      "Epoch: 0 batch #: 233  of 300 sample #: 199 reconstruction error: 0.078808\n",
      "Epoch: 0 batch #: 234  of 300 sample #: 199 reconstruction error: 0.053838\n",
      "Epoch: 0 batch #: 235  of 300 sample #: 199 reconstruction error: 0.079869\n",
      "Epoch: 0 batch #: 236  of 300 sample #: 199 reconstruction error: 0.097380\n",
      "Epoch: 0 batch #: 237  of 300 sample #: 199 reconstruction error: 0.066259\n",
      "Epoch: 0 batch #: 238  of 300 sample #: 199 reconstruction error: 0.101270\n",
      "Epoch: 0 batch #: 239  of 300 sample #: 199 reconstruction error: 0.030686\n",
      "Epoch: 0 batch #: 240  of 300 sample #: 199 reconstruction error: 0.117924\n",
      "Epoch: 0 batch #: 241  of 300 sample #: 199 reconstruction error: 0.084726\n",
      "Epoch: 0 batch #: 242  of 300 sample #: 199 reconstruction error: 0.072066\n",
      "Epoch: 0 batch #: 243  of 300 sample #: 199 reconstruction error: 0.068104\n",
      "Epoch: 0 batch #: 244  of 300 sample #: 199 reconstruction error: 0.087441\n",
      "Epoch: 0 batch #: 245  of 300 sample #: 199 reconstruction error: 0.061738\n",
      "Epoch: 0 batch #: 246  of 300 sample #: 199 reconstruction error: 0.095403\n",
      "Epoch: 0 batch #: 247  of 300 sample #: 199 reconstruction error: 0.050562\n",
      "Epoch: 0 batch #: 248  of 300 sample #: 199 reconstruction error: 0.071804\n",
      "Epoch: 0 batch #: 249  of 300 sample #: 199 reconstruction error: 0.046696\n",
      "Epoch: 0 batch #: 250  of 300 sample #: 199 reconstruction error: 0.085791\n",
      "Epoch: 0 batch #: 251  of 300 sample #: 199 reconstruction error: 0.057550\n",
      "Epoch: 0 batch #: 252  of 300 sample #: 199 reconstruction error: 0.084383\n",
      "Epoch: 0 batch #: 253  of 300 sample #: 199 reconstruction error: 0.063378\n",
      "Epoch: 0 batch #: 254  of 300 sample #: 199 reconstruction error: 0.039797\n",
      "Epoch: 0 batch #: 255  of 300 sample #: 199 reconstruction error: 0.057799\n",
      "Epoch: 0 batch #: 256  of 300 sample #: 199 reconstruction error: 0.074299\n",
      "Epoch: 0 batch #: 257  of 300 sample #: 199 reconstruction error: 0.078379\n",
      "Epoch: 0 batch #: 258  of 300 sample #: 199 reconstruction error: 0.078520\n",
      "Epoch: 0 batch #: 259  of 300 sample #: 199 reconstruction error: 0.090219\n",
      "Epoch: 0 batch #: 260  of 300 sample #: 199 reconstruction error: 0.092486\n",
      "Epoch: 0 batch #: 261  of 300 sample #: 199 reconstruction error: 0.030535\n",
      "Epoch: 0 batch #: 262  of 300 sample #: 199 reconstruction error: 0.045595\n",
      "Epoch: 0 batch #: 263  of 300 sample #: 199 reconstruction error: 0.085005\n",
      "Epoch: 0 batch #: 264  of 300 sample #: 199 reconstruction error: 0.079457\n",
      "Epoch: 0 batch #: 265  of 300 sample #: 199 reconstruction error: 0.075020\n",
      "Epoch: 0 batch #: 266  of 300 sample #: 199 reconstruction error: 0.029636\n",
      "Epoch: 0 batch #: 267  of 300 sample #: 199 reconstruction error: 0.058447\n",
      "Epoch: 0 batch #: 268  of 300 sample #: 199 reconstruction error: 0.024865\n",
      "Epoch: 0 batch #: 269  of 300 sample #: 199 reconstruction error: 0.075608\n",
      "Epoch: 0 batch #: 270  of 300 sample #: 199 reconstruction error: 0.083127\n",
      "Epoch: 0 batch #: 271  of 300 sample #: 199 reconstruction error: 0.059919\n",
      "Epoch: 0 batch #: 272  of 300 sample #: 199 reconstruction error: 0.049081\n",
      "Epoch: 0 batch #: 273  of 300 sample #: 199 reconstruction error: 0.051636\n",
      "Epoch: 0 batch #: 274  of 300 sample #: 199 reconstruction error: 0.068987\n",
      "Epoch: 0 batch #: 275  of 300 sample #: 199 reconstruction error: 0.093503\n",
      "Epoch: 0 batch #: 276  of 300 sample #: 199 reconstruction error: 0.084486\n",
      "Epoch: 0 batch #: 277  of 300 sample #: 199 reconstruction error: 0.079191\n",
      "Epoch: 0 batch #: 278  of 300 sample #: 199 reconstruction error: 0.059545\n",
      "Epoch: 0 batch #: 279  of 300 sample #: 199 reconstruction error: 0.050325\n",
      "Epoch: 0 batch #: 280  of 300 sample #: 199 reconstruction error: 0.080765\n",
      "Epoch: 0 batch #: 281  of 300 sample #: 199 reconstruction error: 0.077115\n",
      "Epoch: 0 batch #: 282  of 300 sample #: 199 reconstruction error: 0.106851\n",
      "Epoch: 0 batch #: 283  of 300 sample #: 199 reconstruction error: 0.055395\n",
      "Epoch: 0 batch #: 284  of 300 sample #: 199 reconstruction error: 0.043790\n",
      "Epoch: 0 batch #: 285  of 300 sample #: 199 reconstruction error: 0.055917\n",
      "Epoch: 0 batch #: 286  of 300 sample #: 199 reconstruction error: 0.073940\n",
      "Epoch: 0 batch #: 287  of 300 sample #: 199 reconstruction error: 0.066813\n",
      "Epoch: 0 batch #: 288  of 300 sample #: 199 reconstruction error: 0.025046\n",
      "Epoch: 0 batch #: 289  of 300 sample #: 199 reconstruction error: 0.109151\n",
      "Epoch: 0 batch #: 290  of 300 sample #: 199 reconstruction error: 0.093687\n",
      "Epoch: 0 batch #: 291  of 300 sample #: 199 reconstruction error: 0.111809\n",
      "Epoch: 0 batch #: 292  of 300 sample #: 199 reconstruction error: 0.065555\n",
      "Epoch: 0 batch #: 293  of 300 sample #: 199 reconstruction error: 0.054059\n",
      "Epoch: 0 batch #: 294  of 300 sample #: 199 reconstruction error: 0.092105\n",
      "Epoch: 0 batch #: 295  of 300 sample #: 199 reconstruction error: 0.064133\n",
      "Epoch: 0 batch #: 296  of 300 sample #: 199 reconstruction error: 0.022322\n",
      "Epoch: 0 batch #: 297  of 300 sample #: 199 reconstruction error: 0.102091\n",
      "Epoch: 0 batch #: 298  of 300 sample #: 199 reconstruction error: 0.046350\n",
      "Epoch: 0 batch #: 299  of 300 sample #: 199 reconstruction error: 0.048375\n",
      "Epoch: 0 batch #: 300  of 300 sample #: 199 reconstruction error: 0.072876\n"
     ]
    }
   ],
   "source": [
    "#Parameters\n",
    "alpha = 0.01\n",
    "epochs = 1\n",
    "batchsize = 200\n",
    "weights = []\n",
    "errors = []\n",
    "batch_number = 0\n",
    "K = 1\n",
    "\n",
    "#creating datasets\n",
    "train_ds = \\\n",
    "    tf.data.Dataset.from_tensor_slices((trX, trY)).batch(batchsize)\n",
    "\n",
    "for epoch in range(epochs):\n",
    "    for batch_x, batch_y in train_ds:\n",
    "        batch_number += 1\n",
    "        for i_sample in range(batchsize):           \n",
    "            for k in range(K):\n",
    "                v0_state = batch_x[i_sample]\n",
    "                h0_state = hidden_layer(v0_state, W, hb)\n",
    "                v1_state = reconstructed_output(h0_state, W, vb)\n",
    "                h1_state = hidden_layer(v1_state, W, hb)\n",
    "\n",
    "                delta_W = tf.matmul(tf.transpose([v0_state]), h0_state) - tf.matmul(tf.transpose([v1_state]), h1_state)\n",
    "                W = W + alpha * delta_W\n",
    "\n",
    "                vb = vb + alpha * tf.reduce_mean(v0_state - v1_state, 0)\n",
    "                hb = hb + alpha * tf.reduce_mean(h0_state - h1_state, 0) \n",
    "\n",
    "                v0_state = v1_state\n",
    "\n",
    "            if i_sample == batchsize-1:\n",
    "                err = error(batch_x[i_sample], v1_state)\n",
    "                errors.append(err)\n",
    "                weights.append(W)\n",
    "                print ( 'Epoch: %d' % epoch, \n",
    "                       \"batch #: %i \" % batch_number, \"of %i\" % int(60e3/batchsize), \n",
    "                       \"sample #: %i\" % i_sample,\n",
    "                       'reconstruction error: %f' % err)\n",
    "\n"
   ]
  },
  {
   "cell_type": "markdown",
   "metadata": {},
   "source": [
    "Let's take a look at the errors at the end of each batch:\n"
   ]
  },
  {
   "cell_type": "code",
   "execution_count": 18,
   "metadata": {},
   "outputs": [
    {
     "data": {
      "image/png": "[encoded data removed]",
      "text/plain": [
       "<Figure size 432x288 with 1 Axes>"
      ]
     },
     "metadata": {
      "needs_background": "light"
     },
     "output_type": "display_data"
    }
   ],
   "source": [
    "plt.plot(errors)\n",
    "plt.xlabel(\"Batch Number\")\n",
    "plt.ylabel(\"Error\")\n",
    "plt.show()"
   ]
  },
  {
   "cell_type": "markdown",
   "metadata": {},
   "source": [
    "What is the final weight matrix $W$ after training?\n"
   ]
  },
  {
   "cell_type": "code",
   "execution_count": 19,
   "metadata": {},
   "outputs": [
    {
     "name": "stdout",
     "output_type": "stream",
     "text": [
      "[[-0.55999976 -0.5399998  -0.3899999  ... -0.3899999  -0.35999992\n",
      "  -0.43999985]\n",
      " [-0.6099997  -0.58999974 -0.41999987 ... -0.42999986 -0.36999992\n",
      "  -0.5299998 ]\n",
      " [-0.5299998  -0.4899998  -0.3999999  ... -0.36999992 -0.35999992\n",
      "  -0.4999998 ]\n",
      " ...\n",
      " [-0.56999975 -0.5099998  -0.42999986 ... -0.35999992 -0.31999996\n",
      "  -0.5399998 ]\n",
      " [-0.6199997  -0.5099998  -0.3899999  ... -0.32999995 -0.29999998\n",
      "  -0.5099998 ]\n",
      " [-0.57999974 -0.4899998  -0.42999986 ... -0.3799999  -0.26000002\n",
      "  -0.5099998 ]]\n"
     ]
    }
   ],
   "source": [
    "print(W.numpy()) # a weight matrix of shape (50,784)"
   ]
  },
  {
   "cell_type": "markdown",
   "metadata": {},
   "source": [
    "<a id=\"ref5\"></a>\n",
    "\n",
    "<h3>Learned features</h3> \n"
   ]
  },
  {
   "cell_type": "markdown",
   "metadata": {},
   "source": [
    "We can take each hidden unit and visualize the connections between that hidden unit and each element in the input vector. In our case, we have 50 hidden units. Lets visualize those.\n"
   ]
  },
  {
   "cell_type": "markdown",
   "metadata": {},
   "source": [
    "Let's plot the current weights: <b>tile_raster_images</b> helps in generating an easy to grasp image from a set of samples or weights. It transforms the <b>uw</b> (with one flattened image per row of size 784), into an array (of size $28\\times28$) in which images are reshaped and laid out like tiles on a floor.\n"
   ]
  },
  {
   "cell_type": "code",
   "execution_count": 20,
   "metadata": {},
   "outputs": [
    {
     "data": {
      "image/png": "[encoded data removed]",
      "text/plain": [
       "<Figure size 1296x1296 with 1 Axes>"
      ]
     },
     "metadata": {
      "needs_background": "light"
     },
     "output_type": "display_data"
    }
   ],
   "source": [
    "tile_raster_images(X=W.numpy().T, img_shape=(28, 28), tile_shape=(5, 10), tile_spacing=(1, 1))\n",
    "import matplotlib.pyplot as plt\n",
    "from PIL import Image\n",
    "%matplotlib inline\n",
    "image = Image.fromarray(tile_raster_images(X=W.numpy().T, img_shape=(28, 28) ,tile_shape=(5, 10), tile_spacing=(1, 1)))\n",
    "### Plot image\n",
    "plt.rcParams['figure.figsize'] = (18.0, 18.0)\n",
    "imgplot = plt.imshow(image)\n",
    "imgplot.set_cmap('gray')  "
   ]
  },
  {
   "cell_type": "markdown",
   "metadata": {},
   "source": [
    "Each tile in the above visualization corresponds to a vector of connections between a hidden unit and visible layer's units.\n"
   ]
  },
  {
   "cell_type": "markdown",
   "metadata": {},
   "source": [
    "Let's look at one of the learned weights corresponding to one of hidden units for example. In this particular square, the gray color represents weight = 0, and the whiter it is, the more positive the weights are (closer to 1). Conversely, the darker pixels are, the more negative the weights. The positive pixels will increase the probability of activation in hidden units (after multiplying by input/visible pixels), and negative pixels will decrease the probability of a unit hidden to be 1 (activated). So, why is this important?  So we can see that this specific square (hidden unit) can detect a feature (e.g. a \"/\" shape) and if it exists in the input.\n"
   ]
  },
  {
   "cell_type": "code",
   "execution_count": 21,
   "metadata": {
    "scrolled": true
   },
   "outputs": [
    {
     "data": {
      "image/png": "[encoded data removed]",
      "text/plain": [
       "<Figure size 288x288 with 1 Axes>"
      ]
     },
     "metadata": {
      "needs_background": "light"
     },
     "output_type": "display_data"
    }
   ],
   "source": [
    "from PIL import Image\n",
    "image = Image.fromarray(tile_raster_images(X =W.numpy().T[10:11], img_shape=(28, 28),tile_shape=(1, 1), tile_spacing=(1, 1)))\n",
    "### Plot image\n",
    "plt.rcParams['figure.figsize'] = (4.0, 4.0)\n",
    "imgplot = plt.imshow(image)\n",
    "imgplot.set_cmap('gray')  "
   ]
  },
  {
   "cell_type": "markdown",
   "metadata": {},
   "source": [
    "Let's look at the reconstruction of an image now. Imagine that we have a destructed image of figure 3. Lets see if our trained network can fix it:\n",
    "\n",
    "First we plot the image:\n"
   ]
  },
  {
   "cell_type": "code",
   "execution_count": 22,
   "metadata": {},
   "outputs": [
    {
     "data": {
      "image/png": "[encoded data removed]",
      "text/plain": [
       "<PIL.JpegImagePlugin.JpegImageFile image mode=RGB size=181x181 at 0x18425F87E08>"
      ]
     },
     "execution_count": 22,
     "metadata": {},
     "output_type": "execute_result"
    }
   ],
   "source": [
    "#!wget -O destructed3.jpg  https://ibm.box.com/shared/static/vvm1b63uvuxq88vbw9znpwu5ol380mco.jpg\n",
    "img = Image.open('destructed3.jpg')\n",
    "img"
   ]
  },
  {
   "cell_type": "markdown",
   "metadata": {},
   "source": [
    "Now let's pass this image through the neural net:\n"
   ]
  },
  {
   "cell_type": "code",
   "execution_count": 23,
   "metadata": {},
   "outputs": [],
   "source": [
    "# convert the image to a 1d numpy array\n",
    "sample_case = np.array(img.convert('I').resize((28,28))).ravel().reshape((1, -1))/255.0\n",
    "\n",
    "sample_case = tf.cast(sample_case, dtype=tf.float32)"
   ]
  },
  {
   "cell_type": "markdown",
   "metadata": {},
   "source": [
    "Feed the sample case into the network and reconstruct the output:\n"
   ]
  },
  {
   "cell_type": "code",
   "execution_count": 24,
   "metadata": {},
   "outputs": [
    {
     "name": "stdout",
     "output_type": "stream",
     "text": [
      "Probability nodes in hidden layer: tf.Tensor(\n",
      "[[9.98256624e-01 9.99996185e-01 2.55153656e-01 3.46037032e-10\n",
      "  8.17093301e-13 6.14687821e-08 1.20292990e-13 9.99568284e-01\n",
      "  9.96899605e-01 1.73504722e-12 3.18655185e-02 5.74253907e-04\n",
      "  1.25516972e-10 1.00000000e+00 1.97515360e-09 9.41562976e-14\n",
      "  3.33118601e-06 4.84067909e-02 1.00000000e+00 9.02991524e-05\n",
      "  9.99929428e-01 9.99926209e-01 2.34442155e-06 9.98885334e-01\n",
      "  1.07961795e-14 1.25220343e-02 3.97722506e-05 5.74126643e-05\n",
      "  8.03506650e-10 1.55328667e-10 9.99660492e-01 1.01976139e-09\n",
      "  1.45906165e-06 1.00000000e+00 9.99976158e-01 7.86111176e-01\n",
      "  6.10408746e-03 1.75768649e-03 1.87159479e-02 2.31888771e-06\n",
      "  1.34215474e-13 1.24781532e-10 2.34464649e-04 7.05459476e-01\n",
      "  1.00000000e+00 3.79738303e-08 3.98778760e-10 6.56857173e-06\n",
      "  5.05926549e-01 1.00000000e+00]], shape=(1, 50), dtype=float32)\n",
      "activated nodes in hidden layer: tf.Tensor(\n",
      "[[1. 1. 0. 0. 0. 0. 0. 1. 1. 0. 0. 0. 0. 1. 0. 0. 0. 0. 1. 0. 1. 1. 0. 1.\n",
      "  0. 0. 0. 0. 0. 0. 1. 0. 0. 1. 1. 1. 0. 0. 0. 0. 0. 0. 0. 1. 1. 0. 0. 0.\n",
      "  1. 1.]], shape=(1, 50), dtype=float32)\n",
      "tf.Tensor(\n",
      "[[2.09717458e-04 1.95542103e-04 3.09717463e-04 3.15972662e-04\n",
      "  1.70000581e-04 2.77464278e-04 3.52700270e-04 2.83067959e-04\n",
      "  1.86007121e-04 2.66587915e-04 2.61310634e-04 3.52699950e-04\n",
      "  2.75999977e-04 1.95964283e-04 2.32314618e-04 2.86416849e-04\n",
      "  2.74704420e-04 2.74704682e-04 1.75176901e-04 3.22353502e-04\n",
      "  2.77464540e-04 1.89764105e-04 1.97506975e-04 1.95542103e-04\n",
      "  1.46324368e-04 2.58711167e-04 3.89779045e-04 2.48569471e-04\n",
      "  3.00566782e-04 2.97576917e-04 2.66588177e-04 1.93596745e-04\n",
      "  2.44721130e-04 2.06357334e-04 2.51905323e-04 2.17761699e-04\n",
      "  2.64879811e-04 2.02541720e-04 3.88421991e-04 5.01216797e-04\n",
      "  1.97949266e-04 2.81541346e-04 2.58154556e-04 3.19009501e-04\n",
      "  3.33185686e-04 3.99745331e-04 2.66118383e-04 3.49123584e-04\n",
      "  2.10839018e-04 2.90647848e-04 2.39425339e-04 1.97483823e-04\n",
      "  3.19146988e-04 2.56137777e-04 3.93694936e-04 3.19146988e-04\n",
      "  2.56137777e-04 2.69266515e-04 2.26060962e-04 2.48540571e-04\n",
      "  3.48795060e-04 1.55024201e-04 1.75479494e-04 1.70114246e-04\n",
      "  2.38161971e-04 9.48253364e-05 1.10139335e-04 9.11790485e-05\n",
      "  3.28420610e-05 3.23462918e-05 7.70920524e-05 6.55167241e-05\n",
      "  5.91385178e-05 5.87271934e-05 3.08919807e-05 5.50281075e-05\n",
      "  7.45704529e-05 2.07973484e-04 3.77908727e-04 4.10431239e-04\n",
      "  2.14280881e-04 3.74472380e-04 2.58711167e-04 1.84156626e-04\n",
      "  2.01496165e-04 4.26471030e-04 2.30653590e-04 3.08542454e-04\n",
      "  1.89786544e-04 2.92328070e-04 3.72861919e-04 1.90981533e-04\n",
      "  7.62920536e-05 6.69637666e-05 5.37762135e-05 9.82514393e-05\n",
      "  9.05561246e-05 8.89208604e-05 2.22014205e-04 5.17211563e-04\n",
      "  5.86348877e-04 1.35046674e-03 1.27740565e-03 5.53408870e-04\n",
      "  5.98413812e-04 4.25237726e-04 5.05183707e-04 2.71035969e-04\n",
      "  4.60275187e-04 2.49203993e-04 2.55616178e-04 3.22353502e-04\n",
      "  2.11824750e-04 1.59763644e-04 2.44423834e-04 2.94005935e-04\n",
      "  3.68241745e-04 4.71025502e-04 4.72895888e-04 4.03684680e-04\n",
      "  1.82105272e-04 1.54589041e-04 3.11784504e-04 4.88999416e-04\n",
      "  5.48979500e-04 2.27927836e-03 8.67881626e-03 3.93094830e-02\n",
      "  6.78215027e-02 7.49135017e-02 7.09931329e-02 2.16776412e-02\n",
      "  7.39728054e-03 4.91144042e-03 6.54210942e-03 5.88288391e-03\n",
      "  3.14882188e-03 1.08693854e-03 3.72203998e-04 2.34879029e-04\n",
      "  1.64977027e-04 2.46096955e-04 3.57110694e-04 4.95299115e-04\n",
      "  1.27020734e-03 6.61408994e-04 7.60608295e-04 1.81141589e-03\n",
      "  1.71722274e-03 5.86182810e-03 1.32548213e-02 2.28135306e-02\n",
      "  4.12229784e-02 2.44669124e-01 6.12211049e-01 8.84920955e-01\n",
      "  9.21647310e-01 8.85851324e-01 6.28668249e-01 5.20902038e-01\n",
      "  1.20078675e-01 1.08276933e-01 4.91205193e-02 2.98451632e-02\n",
      "  1.08484738e-02 3.88721563e-03 9.27793735e-04 1.96757392e-04\n",
      "  3.45718436e-04 2.21646609e-04 3.08844697e-04 1.21459749e-03\n",
      "  1.72238436e-03 1.86981971e-03 2.43480830e-03 6.44621486e-03\n",
      "  2.88932975e-02 3.88588235e-02 9.79359224e-02 4.05697614e-01\n",
      "  8.34841371e-01 9.41900909e-01 9.78509665e-01 9.77890968e-01\n",
      "  9.89584386e-01 9.87736821e-01 9.23145473e-01 8.45954239e-01\n",
      "  6.31075501e-01 4.04053181e-01 3.22739810e-01 1.24962635e-01\n",
      "  3.25552300e-02 9.31376126e-03 2.06136587e-03 6.50022412e-04\n",
      "  3.24483495e-04 2.38825713e-04 5.76380175e-04 1.41459226e-03\n",
      "  2.31081154e-03 6.61582500e-03 1.02808652e-02 3.97185124e-02\n",
      "  7.34168813e-02 3.30170542e-01 6.53786182e-01 9.02928472e-01\n",
      "  9.18102324e-01 9.16556239e-01 9.41042602e-01 9.79207039e-01\n",
      "  9.56822276e-01 8.15545559e-01 6.88034177e-01 7.83685744e-01\n",
      "  9.16324496e-01 7.51503468e-01 3.99196029e-01 7.72615299e-02\n",
      "  2.27254760e-02 3.50325205e-03 1.13462075e-03 3.33655509e-04\n",
      "  2.15629261e-04 4.34792542e-04 5.94995799e-04 1.22616929e-03\n",
      "  1.93042704e-03 1.83920108e-03 1.52242240e-02 7.34630227e-02\n",
      "  2.68220842e-01 5.67934871e-01 7.88569331e-01 8.36472988e-01\n",
      "  8.23379695e-01 7.15331137e-01 6.50484085e-01 6.12967193e-01\n",
      "  5.91500521e-01 4.24871385e-01 3.60464931e-01 6.76028848e-01\n",
      "  8.19624305e-01 7.45296538e-01 2.57613927e-01 1.14507983e-02\n",
      "  4.59046755e-03 1.09172135e-03 1.61622278e-03 1.97321380e-04\n",
      "  1.47870043e-04 2.58549408e-04 5.40498178e-04 8.82204855e-04\n",
      "  1.19409291e-03 3.59790283e-03 1.17874872e-02 1.50771573e-01\n",
      "  2.99587011e-01 3.64420086e-01 3.67015392e-01 5.26119113e-01\n",
      "  2.17562422e-01 5.45621477e-02 8.45977888e-02 5.99179454e-02\n",
      "  9.70013067e-02 8.14248323e-02 1.48744196e-01 5.56207418e-01\n",
      "  7.35155106e-01 4.39555258e-01 1.31818026e-01 7.98668712e-03\n",
      "  1.04311563e-03 3.78859986e-04 6.91897527e-04 2.53143080e-04\n",
      "  2.72185483e-04 4.48925217e-04 2.57810694e-04 5.70739037e-04\n",
      "  1.01357920e-03 3.10134934e-03 1.22058205e-02 4.14112844e-02\n",
      "  2.42481083e-01 1.98281586e-01 2.16258824e-01 7.59876519e-02\n",
      "  1.65969282e-02 1.88859366e-02 3.58290002e-02 9.24638659e-02\n",
      "  1.61081061e-01 1.46357164e-01 2.84873664e-01 6.14519894e-01\n",
      "  7.27020502e-01 2.74792135e-01 3.94261740e-02 2.23963708e-03\n",
      "  7.38236122e-04 4.50725493e-04 5.52449434e-04 2.22805204e-04\n",
      "  2.20658098e-04 4.52599896e-04 6.76321273e-04 4.10447479e-04\n",
      "  6.52223534e-04 3.98073811e-03 1.45439701e-02 5.15180528e-02\n",
      "  8.50370303e-02 6.13333918e-02 4.79465015e-02 1.66489035e-02\n",
      "  2.38095690e-02 4.84857708e-02 1.82703793e-01 4.41712081e-01\n",
      "  5.37775040e-01 4.11099255e-01 6.48826718e-01 6.14726424e-01\n",
      "  5.18134654e-01 1.30876049e-01 1.22479079e-02 1.73928810e-03\n",
      "  6.68730063e-04 1.12532487e-03 7.01122917e-04 2.51688296e-04\n",
      "  3.34808341e-04 3.56998557e-04 3.71723523e-04 5.52147569e-04\n",
      "  1.14884903e-03 4.90462594e-03 2.14567762e-02 3.95708084e-02\n",
      "  6.54935837e-02 2.51049083e-02 2.07671244e-02 4.85515706e-02\n",
      "  2.76988387e-01 6.63477123e-01 8.76926899e-01 8.44073951e-01\n",
      "  7.30650842e-01 6.86004162e-01 4.61383551e-01 2.47637346e-01\n",
      "  1.04860879e-01 2.30198652e-02 3.09864338e-03 4.78590053e-04\n",
      "  2.45895237e-04 6.72938128e-04 2.57335720e-04 2.19441630e-04\n",
      "  1.96533700e-04 3.29237431e-04 2.73362035e-04 4.90913051e-04\n",
      "  1.13098905e-03 6.50017010e-03 1.05613116e-02 1.58654731e-02\n",
      "  2.57899314e-02 1.43085346e-02 7.64159262e-02 2.31002286e-01\n",
      "  9.29354966e-01 9.61610794e-01 9.64885652e-01 9.32216406e-01\n",
      "  8.85428786e-01 7.57223070e-01 2.94118732e-01 1.46452025e-01\n",
      "  3.15477550e-02 6.83372468e-03 2.20138207e-03 7.57938426e-04\n",
      "  3.08630697e-04 4.35084192e-04 4.43607278e-04 2.65118550e-04\n",
      "  2.39313056e-04 2.03233882e-04 3.25630390e-04 5.80393651e-04\n",
      "  1.48999190e-03 5.50171873e-03 7.42336456e-03 3.24364100e-03\n",
      "  1.21103879e-02 3.63129191e-02 7.05360547e-02 5.65994024e-01\n",
      "  9.53458190e-01 9.58834708e-01 9.58543718e-01 8.71612251e-01\n",
      "  8.10283005e-01 6.74935341e-01 2.47768477e-01 3.30595523e-02\n",
      "  7.00325146e-03 3.63139436e-03 1.71044318e-03 7.81736977e-04\n",
      "  3.00039683e-04 4.68283659e-04 3.64879874e-04 3.03645997e-04\n",
      "  3.43139807e-04 3.28579568e-04 3.94576200e-04 1.38157711e-03\n",
      "  2.03397684e-03 1.46478077e-03 5.12231933e-03 4.43150708e-03\n",
      "  4.22344171e-03 1.90501418e-02 4.17005681e-02 3.51057708e-01\n",
      "  5.97343326e-01 6.68479443e-01 5.68757713e-01 6.21983945e-01\n",
      "  5.66585600e-01 6.30394638e-01 2.10067317e-01 2.54173130e-02\n",
      "  4.92865499e-03 2.72349408e-03 1.35082030e-03 7.28981744e-04\n",
      "  3.01880646e-04 2.75947881e-04 2.19209702e-04 2.81728775e-04\n",
      "  2.06090495e-04 2.83980276e-04 3.52935895e-04 1.40393747e-03\n",
      "  3.26732337e-03 3.41393217e-03 5.19625284e-03 2.09799223e-03\n",
      "  4.31066658e-03 5.96476858e-03 2.45735459e-02 7.38646016e-02\n",
      "  1.93454459e-01 9.10548493e-02 1.44736737e-01 1.56036288e-01\n",
      "  4.35664654e-01 5.13818622e-01 1.84513822e-01 1.87228061e-02\n",
      "  4.18931153e-03 3.02414363e-03 1.88223622e-03 6.85839914e-04\n",
      "  3.38017271e-04 2.61188834e-04 3.60896811e-04 2.83991103e-04\n",
      "  2.38825276e-04 2.36839318e-04 6.37285062e-04 3.93965421e-03\n",
      "  8.81480798e-03 9.60290153e-03 1.24956882e-02 7.34636188e-03\n",
      "  6.71762554e-03 3.96753522e-03 9.97484569e-03 4.12940867e-02\n",
      "  9.38779041e-02 4.47427258e-02 2.51258314e-02 7.20951036e-02\n",
      "  2.40009189e-01 3.71013314e-01 2.97201484e-01 4.67647351e-02\n",
      "  1.17884865e-02 2.12324038e-02 7.01909373e-03 1.12038211e-03\n",
      "  6.97948271e-04 2.27350756e-04 3.49479873e-04 2.87813164e-04\n",
      "  2.39923509e-04 4.76633781e-04 1.40796369e-03 6.58800779e-03\n",
      "  6.11950532e-02 3.68321575e-02 7.24855661e-02 3.61530669e-02\n",
      "  1.51070990e-02 9.85434465e-03 1.92570854e-02 1.00838192e-01\n",
      "  3.14347968e-02 8.30721390e-03 9.81287938e-03 3.63602042e-02\n",
      "  1.95071653e-01 4.58289057e-01 2.65733719e-01 1.03461154e-01\n",
      "  2.38886401e-02 3.60514335e-02 7.55187124e-03 3.33437067e-03\n",
      "  2.76171928e-03 5.45650953e-04 5.20681031e-04 3.01192427e-04\n",
      "  2.15468768e-04 3.57516750e-04 1.97705789e-03 2.94798315e-02\n",
      "  2.38268867e-01 2.17566699e-01 2.24307209e-01 1.06617972e-01\n",
      "  2.61942819e-02 3.16400342e-02 4.17710766e-02 9.97867733e-02\n",
      "  2.92025339e-02 8.52340739e-03 6.37613516e-03 7.66825899e-02\n",
      "  2.80312330e-01 7.08244681e-01 6.45156622e-01 1.56554550e-01\n",
      "  3.70944738e-02 1.91643648e-02 6.52274676e-03 1.68000499e-03\n",
      "  1.23925705e-03 4.48838546e-04 3.73842107e-04 2.43305214e-04\n",
      "  2.80252367e-04 2.71269673e-04 3.96557990e-03 7.79084712e-02\n",
      "  3.25616270e-01 4.51922834e-01 4.63541865e-01 3.64954144e-01\n",
      "  1.02115877e-01 9.42366570e-02 7.81743228e-02 9.28226411e-02\n",
      "  4.74076085e-02 1.14873219e-02 1.93403997e-02 2.57312626e-01\n",
      "  7.86985993e-01 8.78380179e-01 6.48678720e-01 1.77965432e-01\n",
      "  4.02768366e-02 7.06700981e-03 4.80802264e-03 1.15911150e-03\n",
      "  1.17838581e-03 1.03014254e-03 4.35936905e-04 2.19484529e-04\n",
      "  1.67269842e-04 2.09602513e-04 2.94563477e-03 4.45646122e-02\n",
      "  3.22541505e-01 5.64401627e-01 5.73654413e-01 6.20282650e-01\n",
      "  3.24350238e-01 2.55056977e-01 2.38605946e-01 1.47867784e-01\n",
      "  9.12495106e-02 1.08052529e-01 2.22012803e-01 6.66655660e-01\n",
      "  9.20740187e-01 8.39807451e-01 3.98697227e-01 9.54062417e-02\n",
      "  8.64393730e-03 8.64515081e-03 2.42170738e-03 1.33898330e-03\n",
      "  2.13142578e-03 1.82940881e-03 4.44808597e-04 1.54169655e-04\n",
      "  2.51915189e-04 1.92725944e-04 3.20468214e-03 3.38433497e-02\n",
      "  3.07830483e-01 4.59453374e-01 6.73933744e-01 8.45735550e-01\n",
      "  7.55552769e-01 4.90437627e-01 4.11535025e-01 5.32430649e-01\n",
      "  3.96090895e-01 4.09107625e-01 7.46031344e-01 9.15306687e-01\n",
      "  8.95537555e-01 3.76786113e-01 1.43703803e-01 3.11603807e-02\n",
      "  6.74663484e-03 4.87867650e-03 1.35767739e-03 1.23026222e-03\n",
      "  1.37553527e-03 4.47783241e-04 3.23037093e-04 3.01345804e-04\n",
      "  2.20467788e-04 4.95454005e-04 6.38110097e-04 1.03239520e-02\n",
      "  7.10987374e-02 5.68853557e-01 6.80647671e-01 7.78915346e-01\n",
      "  6.27673447e-01 7.87885845e-01 8.58007073e-01 5.75776279e-01\n",
      "  6.42279506e-01 6.12280846e-01 8.56220961e-01 7.40487754e-01\n",
      "  4.38616961e-01 1.89419731e-01 2.37669032e-02 1.44132925e-02\n",
      "  5.80939976e-03 2.69188965e-03 1.63570873e-03 9.24203661e-04\n",
      "  1.32779218e-03 3.53378622e-04 2.46618409e-04 2.48569471e-04\n",
      "  3.56243603e-04 2.03520685e-04 3.27140820e-04 1.36490574e-03\n",
      "  1.06115220e-02 9.78189334e-02 4.66854155e-01 4.78692085e-01\n",
      "  6.54105723e-01 8.09978724e-01 7.27832437e-01 5.27960300e-01\n",
      "  2.65737206e-01 2.69464999e-01 3.23375434e-01 3.01385820e-01\n",
      "  1.32490605e-01 4.20547500e-02 1.09652951e-02 2.93706241e-03\n",
      "  2.37469608e-03 1.11053139e-03 5.39695378e-04 9.63657105e-04\n",
      "  5.56970481e-04 3.07962327e-04 2.24427073e-04 2.46096723e-04\n",
      "  1.53825458e-04 1.55370930e-04 2.45383970e-04 2.73297395e-04\n",
      "  9.41893726e-04 2.20238697e-03 1.07674785e-02 1.99887212e-02\n",
      "  7.08592609e-02 3.95157896e-02 1.39392177e-02 8.39754939e-03\n",
      "  4.10450343e-03 8.15625302e-03 5.97560359e-03 9.95329209e-03\n",
      "  1.09054651e-02 4.97262506e-03 1.72502466e-03 1.34496985e-03\n",
      "  4.61019896e-04 4.61777265e-04 6.02293003e-04 4.17457428e-04\n",
      "  2.38507360e-04 2.47839896e-04 2.27777971e-04 2.41225192e-04\n",
      "  1.87876227e-04 2.31768616e-04 2.05565739e-04 2.46309617e-04\n",
      "  2.76682607e-04 5.74959326e-04 1.40020484e-03 1.69376843e-03\n",
      "  6.24556269e-04 2.77044775e-04 2.75505707e-04 2.49059813e-04\n",
      "  2.91759497e-04 1.96327674e-04 1.58101335e-04 4.87849902e-04\n",
      "  3.89415422e-04 5.92995610e-04 4.28131112e-04 3.02163971e-04\n",
      "  6.85501785e-04 2.72314239e-04 3.00037413e-04 3.02600733e-04\n",
      "  2.97098974e-04 2.58924614e-04 3.19146988e-04 1.53825313e-04\n",
      "  1.58509196e-04 2.77464540e-04 2.85912363e-04 2.85912363e-04\n",
      "  3.28940630e-04 3.37510137e-04 3.07371258e-04 3.43261054e-04\n",
      "  4.47291764e-04 4.77776222e-04 9.24707565e-04 6.11689698e-04\n",
      "  3.87040345e-04 3.62670253e-04 3.97713273e-04 3.25630710e-04\n",
      "  5.08679193e-04 7.12283421e-04 4.25469858e-04 1.86379606e-04\n",
      "  2.93533434e-04 1.79621449e-04 2.49115867e-04 2.16340370e-04\n",
      "  2.53589533e-04 2.43648567e-04 2.69266515e-04 2.63935974e-04]], shape=(1, 784), dtype=float32)\n"
     ]
    }
   ],
   "source": [
    "hh0_p = tf.nn.sigmoid(tf.matmul(sample_case, W) + hb)\n",
    "hh0_s = tf.round(hh0_p)\n",
    "\n",
    "print(\"Probability nodes in hidden layer:\" ,hh0_p)\n",
    "print(\"activated nodes in hidden layer:\" ,hh0_s)\n",
    "\n",
    "# reconstruct\n",
    "vv1_p = tf.nn.sigmoid(tf.matmul(hh0_s, tf.transpose(W)) + vb)\n",
    "\n",
    "print(vv1_p)\n",
    "#rec_prob = sess.run(vv1_p, feed_dict={ hh0_s: hh0_s_val, W: prv_w, vb: prv_vb})"
   ]
  },
  {
   "cell_type": "markdown",
   "metadata": {},
   "source": [
    "Here we plot the reconstructed image:\n"
   ]
  },
  {
   "cell_type": "code",
   "execution_count": 25,
   "metadata": {},
   "outputs": [
    {
     "data": {
      "image/png": "[encoded data removed]",
      "text/plain": [
       "<Figure size 288x288 with 1 Axes>"
      ]
     },
     "metadata": {
      "needs_background": "light"
     },
     "output_type": "display_data"
    }
   ],
   "source": [
    "img = Image.fromarray(tile_raster_images(X=vv1_p.numpy(), img_shape=(28, 28),tile_shape=(1, 1), tile_spacing=(1, 1)))\n",
    "plt.rcParams['figure.figsize'] = (4.0, 4.0)\n",
    "imgplot = plt.imshow(img)\n",
    "imgplot.set_cmap('gray') "
   ]
  },
  {
   "cell_type": "markdown",
   "metadata": {},
   "source": [
    "<hr>\n",
    "\n",
    "## Want to learn more?\n",
    "\n",
    "Running deep learning programs usually needs a high performance platform. **PowerAI** speeds up deep learning and AI. Built on IBM’s Power Systems, **PowerAI** is a scalable software platform that accelerates deep learning and AI with blazing performance for individual users or enterprises. The **PowerAI** platform supports popular machine learning libraries and dependencies including TensorFlow, Caffe, Torch, and Theano. You can use [PowerAI on IMB Cloud](https://cocl.us/ML0120EN_PAI).\n",
    "\n",
    "Also, you can use **Watson Studio** to run these notebooks faster with bigger datasets.**Watson Studio** is IBM’s leading cloud solution for data scientists, built by data scientists. With Jupyter notebooks, RStudio, Apache Spark and popular libraries pre-packaged in the cloud, **Watson Studio** enables data scientists to collaborate on their projects without having to install anything. Join the fast-growing community of **Watson Studio** users today with a free account at [Watson Studio](https://cocl.us/ML0120EN_DSX).This is the end of this lesson. Thank you for reading this notebook, and good luck on your studies.\n"
   ]
  },
  {
   "cell_type": "markdown",
   "metadata": {},
   "source": [
    "### Thanks for completing this lesson!\n",
    "\n",
    "Notebook created by: <a href = \"https://ca.linkedin.com/in/saeedaghabozorgi?utm_medium=Exinfluencer&utm_source=Exinfluencer&utm_content=000026UJ&utm_term=10006555&utm_id=NA-SkillsNetwork-Channel-SkillsNetworkCoursesIBMDeveloperSkillsNetworkDL0120ENSkillsNetwork20629446-2021-01-01\">Saeed Aghabozorgi</a>\n",
    "\n",
    "Updated to TF 2.X by  <a href=\"https://ca.linkedin.com/in/nilmeier?utm_medium=Exinfluencer&utm_source=Exinfluencer&utm_content=000026UJ&utm_term=10006555&utm_id=NA-SkillsNetwork-Channel-SkillsNetworkCoursesIBMDeveloperSkillsNetworkDL0120ENSkillsNetwork20629446-2021-01-01\"> Jerome Nilmeier</a><br />\n"
   ]
  },
  {
   "cell_type": "markdown",
   "metadata": {},
   "source": [
    "### References:\n",
    "\n",
    "https://en.wikipedia.org/wiki/Restricted_Boltzmann_machine\\\n",
    "http://deeplearning.net/tutorial/rbm.html\\\n",
    "http://www.cs.utoronto.ca/~hinton/absps/netflixICML.pdf<br>\n",
    "http://imonad.com/rbm/restricted-boltzmann-machine/\n"
   ]
  },
  {
   "cell_type": "markdown",
   "metadata": {},
   "source": [
    "<hr>\n",
    "\n",
    "Copyright © 2018 [Cognitive Class](https://cocl.us/DX0108EN_CC). This notebook and its source code are released under the terms of the [MIT License](https://bigdatauniversity.com/mit-license/?utm_medium=Exinfluencer\\&utm_source=Exinfluencer\\&utm_content=000026UJ\\&utm_term=10006555\\&utm_id=NA-SkillsNetwork-Channel-SkillsNetworkCoursesIBMDeveloperSkillsNetworkDL0120ENSkillsNetwork20629446-2021-01-01).\n"
   ]
  }
 ],
 "metadata": {
  "kernelspec": {
   "display_name": "Python 3",
   "language": "python",
   "name": "python3"
  },
  "language_info": {
   "codemirror_mode": {
    "name": "ipython",
    "version": 3
   },
   "file_extension": ".py",
   "mimetype": "text/x-python",
   "name": "python",
   "nbconvert_exporter": "python",
   "pygments_lexer": "ipython3",
   "version": "3.7.6"
  },
  "widgets": {
   "state": {},
   "version": "1.1.2"
  }
 },
 "nbformat": 4,
 "nbformat_minor": 4
}
